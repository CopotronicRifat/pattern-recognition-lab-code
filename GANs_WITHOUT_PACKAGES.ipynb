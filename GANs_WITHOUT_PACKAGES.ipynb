{
  "nbformat": 4,
  "nbformat_minor": 0,
  "metadata": {
    "colab": {
      "name": "GANs WITHOUT PACKAGES.ipynb",
      "provenance": [],
      "authorship_tag": "ABX9TyNSKXcz1+CEH0DeqZfrEzpp",
      "include_colab_link": true
    },
    "kernelspec": {
      "name": "python3",
      "display_name": "Python 3"
    }
  },
  "cells": [
    {
      "cell_type": "markdown",
      "metadata": {
        "id": "view-in-github",
        "colab_type": "text"
      },
      "source": [
        "<a href=\"https://colab.research.google.com/github/CopotronicRifat/pattern-recognition-lab-code/blob/master/GANs_WITHOUT_PACKAGES.ipynb\" target=\"_parent\"><img src=\"https://colab.research.google.com/assets/colab-badge.svg\" alt=\"Open In Colab\"/></a>"
      ]
    },
    {
      "cell_type": "code",
      "metadata": {
        "id": "iNr8D3_cSy9s"
      },
      "source": [
        "# Imports\r\n",
        "\r\n",
        "import numpy as np\r\n",
        "from numpy import random\r\n",
        "from matplotlib import pyplot as plt\r\n",
        "%matplotlib inline"
      ],
      "execution_count": null,
      "outputs": []
    },
    {
      "cell_type": "code",
      "metadata": {
        "id": "-6Y4zmmiJyP9"
      },
      "source": [
        "# Drawing function\r\n",
        "\r\n",
        "def view_samples(samples, m, n):\r\n",
        "    fig, axes = plt.subplots(figsize=(10, 10), nrows=m, ncols=n, sharey=True, sharex=True)\r\n",
        "    for ax, img in zip(axes.flatten(), samples):\r\n",
        "        ax.xaxis.set_visible(False)\r\n",
        "        ax.yaxis.set_visible(False)\r\n",
        "        im = ax.imshow(1-img.reshape((2,2)), cmap='Greys_r')  \r\n",
        "    return fig, axes"
      ],
      "execution_count": null,
      "outputs": []
    },
    {
      "cell_type": "code",
      "metadata": {
        "colab": {
          "base_uri": "https://localhost:8080/",
          "height": 156
        },
        "id": "-4vckEzzJ3YS",
        "outputId": "a7c1c97b-1c6d-4fdf-cf74-2073213b32fb"
      },
      "source": [
        "\r\n",
        "# Examples of faces\r\n",
        "faces = [np.array([1,0,0,1]),\r\n",
        "         np.array([0.9,0.1,0.2,0.8]),\r\n",
        "         np.array([0.9,0.2,0.1,0.8]),\r\n",
        "         np.array([0.8,0.1,0.2,0.9]),\r\n",
        "         np.array([0.8,0.2,0.1,0.9])]\r\n",
        "    \r\n",
        "_ = view_samples(faces, 1, 4)"
      ],
      "execution_count": null,
      "outputs": [
        {
          "output_type": "display_data",
          "data": {
            "image/png": "[encoded data removed]",
            "text/plain": [
              "<Figure size 720x720 with 4 Axes>"
            ]
          },
          "metadata": {
            "tags": [],
            "needs_background": "light"
          }
        }
      ]
    },
    {
      "cell_type": "code",
      "metadata": {
        "colab": {
          "base_uri": "https://localhost:8080/",
          "height": 556
        },
        "id": "8N5SXxufKCUv",
        "outputId": "170682e3-fd5e-4fc0-e93e-51ff5783118f"
      },
      "source": [
        "# Examples of noisy images\r\n",
        "noise = [np.random.randn(2,2) for i in range(20)]\r\n",
        "def generate_random_image():\r\n",
        "    return [np.random.random(), np.random.random(), np.random.random(), np.random.random()]\r\n",
        "\r\n",
        "_ = view_samples(noise, 4,5)"
      ],
      "execution_count": null,
      "outputs": [
        {
          "output_type": "display_data",
          "data": {
            "image/png": "[encoded data removed]",
            "text/plain": [
              "<Figure size 720x720 with 20 Axes>"
            ]
          },
          "metadata": {
            "tags": [],
            "needs_background": "light"
          }
        }
      ]
    },
    {
      "cell_type": "code",
      "metadata": {
        "id": "_UoyXj6mKFVo"
      },
      "source": [
        "# The sigmoid activation function\r\n",
        "def sigmoid(x):\r\n",
        "    return np.exp(x)/(1.0+np.exp(x))"
      ],
      "execution_count": null,
      "outputs": []
    },
    {
      "cell_type": "code",
      "metadata": {
        "id": "f9iOZD5lKMix"
      },
      "source": [
        "\r\n",
        "class Discriminator():\r\n",
        "    def __init__(self):\r\n",
        "        #self.weights = np.array([0.0 for i in range(4)])\r\n",
        "        #self.bias = 0.0\r\n",
        "        self.weights = np.array([np.random.normal() for i in range(4)])\r\n",
        "        self.bias = np.random.normal()\r\n",
        "    \r\n",
        "    def forward(self, x):\r\n",
        "        # Forward pass\r\n",
        "        return sigmoid(np.dot(x, self.weights) + self.bias)\r\n",
        "    \r\n",
        "    def error_from_image(self, image):\r\n",
        "        prediction = self.forward(image)\r\n",
        "        # We want the prediction to be 1, so the error is -log(prediction)\r\n",
        "        return -np.log(prediction)\r\n",
        "    \r\n",
        "    def derivatives_from_image(self, image):\r\n",
        "        prediction = self.forward(image)\r\n",
        "        derivatives_weights = -image * (1-prediction)\r\n",
        "        derivative_bias = -(1-prediction)\r\n",
        "        return derivatives_weights, derivative_bias\r\n",
        "    \r\n",
        "    def update_from_image(self, x):\r\n",
        "        ders = self.derivatives_from_image(x)\r\n",
        "        self.weights -= learning_rate * ders[0]\r\n",
        "        self.bias -= learning_rate * ders[1]\r\n",
        "\r\n",
        "    def error_from_noise(self, noise):\r\n",
        "        prediction = self.forward(noise)\r\n",
        "        # We want the prediction to be 0, so the error is -log(1-prediction)\r\n",
        "        return -np.log(1-prediction)\r\n",
        "    \r\n",
        "    def derivatives_from_noise(self, noise):\r\n",
        "        prediction = self.forward(noise)\r\n",
        "        derivatives_weights = noise * prediction\r\n",
        "        derivative_bias = prediction\r\n",
        "        return derivatives_weights, derivative_bias\r\n",
        "    \r\n",
        "    def update_from_noise(self, noise):\r\n",
        "        ders = self.derivatives_from_noise(noise)\r\n",
        "        self.weights -= learning_rate * ders[0]\r\n",
        "        self.bias -= learning_rate * ders[1]"
      ],
      "execution_count": null,
      "outputs": []
    },
    {
      "cell_type": "code",
      "metadata": {
        "id": "rvIQdNe_KSck"
      },
      "source": [
        "class Generator():\r\n",
        "    def __init__(self):\r\n",
        "        self.weights = np.array([np.random.normal() for i in range(4)])\r\n",
        "        self.biases = np.array([np.random.normal() for i in range(4)])\r\n",
        "\r\n",
        "    def forward(self, z):\r\n",
        "        # Forward pass\r\n",
        "        return sigmoid(z * self.weights + self.biases)\r\n",
        "\r\n",
        "    def error(self, z, discriminator):\r\n",
        "        x = self.forward(z)\r\n",
        "        # We want the prediction to be 0, so the error is -log(1-prediction)\r\n",
        "        y = discriminator.forward(x)\r\n",
        "        return -np.log(y)\r\n",
        "\r\n",
        "    def derivatives(self, z, discriminator):\r\n",
        "        discriminator_weights = discriminator.weights\r\n",
        "        discriminator_bias = discriminator.bias\r\n",
        "        x = self.forward(z)\r\n",
        "        y = discriminator.forward(x)\r\n",
        "        factor = -(1-y) * discriminator_weights * x *(1-x)\r\n",
        "        derivatives_weights = factor * z\r\n",
        "        derivative_bias = factor\r\n",
        "        return derivatives_weights, derivative_bias\r\n",
        "\r\n",
        "    def update(self, z, discriminator):\r\n",
        "        error_before = self.error(z, discriminator)\r\n",
        "        ders = self.derivatives(z, discriminator)\r\n",
        "        self.weights -= learning_rate * ders[0]\r\n",
        "        self.biases -= learning_rate * ders[1]\r\n",
        "        error_after = self.error(z, discriminator)"
      ],
      "execution_count": null,
      "outputs": []
    },
    {
      "cell_type": "code",
      "metadata": {
        "id": "eeFrexZuKWZF"
      },
      "source": [
        "# Set random seed\r\n",
        "np.random.seed(42)\r\n",
        "\r\n",
        "# Hyperparameters\r\n",
        "learning_rate = 0.01\r\n",
        "epochs = 1000\r\n",
        "\r\n",
        "# The GAN\r\n",
        "D = Discriminator()\r\n",
        "G = Generator()\r\n",
        "\r\n",
        "# For the error plot\r\n",
        "errors_discriminator = []\r\n",
        "errors_generator = []\r\n",
        "\r\n",
        "for epoch in range(epochs):\r\n",
        "    \r\n",
        "    for face in faces:\r\n",
        "        \r\n",
        "        # Update the discriminator weights from the real face\r\n",
        "        D.update_from_image(face)\r\n",
        "    \r\n",
        "        # Pick a random number to generate a fake face\r\n",
        "        z = random.rand()\r\n",
        "\r\n",
        "        # Calculate the discriminator error\r\n",
        "        errors_discriminator.append(sum(D.error_from_image(face) + D.error_from_noise(z)))\r\n",
        "        \r\n",
        "        # Calculate the generator error\r\n",
        "        errors_generator.append(G.error(z, D))\r\n",
        "        \r\n",
        "        # Build a fake face\r\n",
        "        noise = G.forward(z)\r\n",
        "        \r\n",
        "        # Update the discriminator weights from the fake face\r\n",
        "        D.update_from_noise(noise)\r\n",
        "    \r\n",
        "        # Update the generator weights from the fake face\r\n",
        "        G.update(z, D)"
      ],
      "execution_count": null,
      "outputs": []
    },
    {
      "cell_type": "code",
      "metadata": {
        "colab": {
          "base_uri": "https://localhost:8080/",
          "height": 562
        },
        "id": "tOSMeZp7KYZz",
        "outputId": "ce7ead98-8fea-4195-ea06-18f5b960e1f5"
      },
      "source": [
        "import matplotlib.pyplot as plt\r\n",
        "plt.plot(errors_generator)\r\n",
        "plt.title(\"Generator error function\")\r\n",
        "plt.legend(\"gen\")\r\n",
        "plt.show()\r\n",
        "plt.plot(errors_discriminator)\r\n",
        "plt.legend('disc')\r\n",
        "plt.title(\"Discriminator error function\")"
      ],
      "execution_count": null,
      "outputs": [
        {
          "output_type": "display_data",
          "data": {
            "image/png": "[encoded data removed]",
            "text/plain": [
              "<Figure size 432x288 with 1 Axes>"
            ]
          },
          "metadata": {
            "tags": [],
            "needs_background": "light"
          }
        },
        {
          "output_type": "execute_result",
          "data": {
            "text/plain": [
              "Text(0.5, 1.0, 'Discriminator error function')"
            ]
          },
          "metadata": {
            "tags": []
          },
          "execution_count": 10
        },
        {
          "output_type": "display_data",
          "data": {
            "image/png": "[encoded data removed]",
            "text/plain": [
              "<Figure size 432x288 with 1 Axes>"
            ]
          },
          "metadata": {
            "tags": [],
            "needs_background": "light"
          }
        }
      ]
    },
    {
      "cell_type": "code",
      "metadata": {
        "colab": {
          "base_uri": "https://localhost:8080/",
          "height": 224
        },
        "id": "t2BMzw5TKfqC",
        "outputId": "908f2c03-af61-441c-8bff-dac8f3ad5c79"
      },
      "source": [
        "generated_images = []\r\n",
        "for i in range(4):\r\n",
        "    z = random.random()\r\n",
        "    generated_image = G.forward(z)\r\n",
        "    generated_images.append(generated_image)\r\n",
        "_ = view_samples(generated_images, 1, 4)\r\n",
        "for i in generated_images:\r\n",
        "    print(i)"
      ],
      "execution_count": null,
      "outputs": [
        {
          "output_type": "stream",
          "text": [
            "[0.94688171 0.03401213 0.04080795 0.96308679]\n",
            "[0.95653992 0.03437852 0.03579494 0.97063836]\n",
            "[0.95056667 0.03414339 0.03893305 0.96599501]\n",
            "[0.94228203 0.03386046 0.04309146 0.95941292]\n"
          ],
          "name": "stdout"
        },
        {
          "output_type": "display_data",
          "data": {
            "image/png": "[encoded data removed]",
            "text/plain": [
              "<Figure size 720x720 with 4 Axes>"
            ]
          },
          "metadata": {
            "tags": [],
            "needs_background": "light"
          }
        }
      ]
    },
    {
      "cell_type": "code",
      "metadata": {
        "colab": {
          "base_uri": "https://localhost:8080/"
        },
        "id": "J9xy2ycQKkzr",
        "outputId": "c59bb5d8-eea9-43f4-a5d7-2d7c3e5aab01"
      },
      "source": [
        "print(\"Generator weights\", G.weights)\r\n",
        "print(\"Generator biases\", G.biases)"
      ],
      "execution_count": null,
      "outputs": [
        {
          "output_type": "stream",
          "text": [
            "Generator weights [ 0.70702123  0.03720449 -0.45703394  0.79375751]\n",
            "Generator biases [ 2.48490157 -3.36725912 -2.90139211  2.8172726 ]\n"
          ],
          "name": "stdout"
        }
      ]
    },
    {
      "cell_type": "code",
      "metadata": {
        "id": "VSEKwnP1KmdR",
        "colab": {
          "base_uri": "https://localhost:8080/"
        },
        "outputId": "be70503e-3140-4fe2-eba3-14456902559e"
      },
      "source": [
        "print(\"Discriminator weights\", D.weights)\r\n",
        "print(\"Discriminator bias\", D.bias)"
      ],
      "execution_count": null,
      "outputs": [
        {
          "output_type": "stream",
          "text": [
            "Discriminator weights [ 0.60175083 -0.29127513 -0.40093314  0.37759987]\n",
            "Discriminator bias -0.8955103005797738\n"
          ],
          "name": "stdout"
        }
      ]
    }
  ]
}