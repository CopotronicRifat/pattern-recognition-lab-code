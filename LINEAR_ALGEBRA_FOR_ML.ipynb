{
  "nbformat": 4,
  "nbformat_minor": 0,
  "metadata": {
    "colab": {
      "provenance": [],
      "authorship_tag": "ABX9TyMhgFaSQ7LSvk+6gtv05lLE",
      "include_colab_link": true
    },
    "kernelspec": {
      "name": "python3",
      "display_name": "Python 3"
    },
    "language_info": {
      "name": "python"
    }
  },
  "cells": [
    {
      "cell_type": "markdown",
      "metadata": {
        "id": "view-in-github",
        "colab_type": "text"
      },
      "source": [
        "<a href=\"https://colab.research.google.com/github/CopotronicRifat/pattern-recognition-lab-code/blob/master/LINEAR_ALGEBRA_FOR_ML.ipynb\" target=\"_parent\"><img src=\"https://colab.research.google.com/assets/colab-badge.svg\" alt=\"Open In Colab\"/></a>"
      ]
    },
    {
      "cell_type": "code",
      "execution_count": 1,
      "metadata": {
        "colab": {
          "base_uri": "https://localhost:8080/"
        },
        "id": "sc8LI1kOiyjF",
        "outputId": "db82485d-9c29-40e4-b164-d572a5e7beb5"
      },
      "outputs": [
        {
          "output_type": "stream",
          "name": "stdout",
          "text": [
            "[[1.53600662e-316 0.00000000e+000 6.90285231e-310]\n",
            " [1.54493774e-316 0.00000000e+000 0.00000000e+000]\n",
            " [9.88131292e-324 0.00000000e+000 1.18575755e-321]]\n"
          ]
        }
      ],
      "source": [
        "import numpy as np\n",
        "a = np.empty([3, 3])\n",
        "print(a)"
      ]
    },
    {
      "cell_type": "code",
      "source": [
        "b = np.zeros([3, 5])\n",
        "print(b)"
      ],
      "metadata": {
        "colab": {
          "base_uri": "https://localhost:8080/"
        },
        "id": "E-FYi-Y5jNec",
        "outputId": "f78a16b2-fe74-49ea-9641-7d46bd008911"
      },
      "execution_count": 2,
      "outputs": [
        {
          "output_type": "stream",
          "name": "stdout",
          "text": [
            "[[0. 0. 0. 0. 0.]\n",
            " [0. 0. 0. 0. 0.]\n",
            " [0. 0. 0. 0. 0.]]\n"
          ]
        }
      ]
    },
    {
      "cell_type": "code",
      "source": [
        "b = np.ones([3, 5])\n",
        "print(b)"
      ],
      "metadata": {
        "colab": {
          "base_uri": "https://localhost:8080/"
        },
        "id": "RyOM3teLjVEt",
        "outputId": "e1e4195a-5985-4ddc-b72a-e5fab3cea30f"
      },
      "execution_count": 3,
      "outputs": [
        {
          "output_type": "stream",
          "name": "stdout",
          "text": [
            "[[1. 1. 1. 1. 1.]\n",
            " [1. 1. 1. 1. 1.]\n",
            " [1. 1. 1. 1. 1.]]\n"
          ]
        }
      ]
    },
    {
      "cell_type": "code",
      "source": [
        "# create array with vstack\n",
        "from numpy import array\n",
        "from numpy import vstack\n",
        "# create first array\n",
        "a1 = array([1,2,3])\n",
        "print(a1)\n",
        "# create second array\n",
        "a2 = array([4,5,6])\n",
        "print(a2)\n",
        "# vertical stack\n",
        "a3 = vstack((a1, a2))\n",
        "print(a3)\n",
        "print(a3.shape)"
      ],
      "metadata": {
        "colab": {
          "base_uri": "https://localhost:8080/"
        },
        "id": "iva9vfCDjdp5",
        "outputId": "1f488a29-feb0-43a7-8077-a7520531d109"
      },
      "execution_count": 4,
      "outputs": [
        {
          "output_type": "stream",
          "name": "stdout",
          "text": [
            "[1 2 3]\n",
            "[4 5 6]\n",
            "[[1 2 3]\n",
            " [4 5 6]]\n",
            "(2, 3)\n"
          ]
        }
      ]
    },
    {
      "cell_type": "code",
      "source": [
        "# create array with hstack\n",
        "from numpy import array\n",
        "from numpy import hstack\n",
        "# create first array\n",
        "a1 = array([1,2,3])\n",
        "print(a1)\n",
        "# create second array\n",
        "a2 = array([4,5,6])\n",
        "print(a2)\n",
        "# create horizontal stack\n",
        "a3 = hstack((a1, a2))\n",
        "print(a3)\n",
        "print(a3.shape)"
      ],
      "metadata": {
        "id": "BSjy_7kmjkeY",
        "outputId": "a10346c6-10ba-41b3-ea44-ac56873e5e82",
        "colab": {
          "base_uri": "https://localhost:8080/"
        }
      },
      "execution_count": 5,
      "outputs": [
        {
          "output_type": "stream",
          "name": "stdout",
          "text": [
            "[1 2 3]\n",
            "[4 5 6]\n",
            "[1 2 3 4 5 6]\n",
            "(6,)\n"
          ]
        }
      ]
    },
    {
      "cell_type": "code",
      "source": [
        "# create one-dimensional array\n",
        "from numpy import array\n",
        "# list of data\n",
        "data = [11, 22, 33, 44, 55]\n",
        "# array of data\n",
        "data = array(data)\n",
        "print(data)\n",
        "print(type(data))"
      ],
      "metadata": {
        "colab": {
          "base_uri": "https://localhost:8080/"
        },
        "id": "Ehdy-MClHF5F",
        "outputId": "ad1ce5c5-3aa7-4a07-e230-bcc75648ef17"
      },
      "execution_count": 6,
      "outputs": [
        {
          "output_type": "stream",
          "name": "stdout",
          "text": [
            "[11 22 33 44 55]\n",
            "<class 'numpy.ndarray'>\n"
          ]
        }
      ]
    },
    {
      "cell_type": "code",
      "source": [
        "# create two-dimensional array\n",
        "from numpy import array\n",
        "# list of data\n",
        "data = [[11, 22],\n",
        "[33, 44],\n",
        "[55, 66]]\n",
        "# array of data\n",
        "data = array(data)\n",
        "print(data)\n",
        "print(type(data))"
      ],
      "metadata": {
        "colab": {
          "base_uri": "https://localhost:8080/"
        },
        "id": "O7fFMuZaHOMs",
        "outputId": "c28557e9-9909-4e01-f44f-01509d7ea4f9"
      },
      "execution_count": 7,
      "outputs": [
        {
          "output_type": "stream",
          "name": "stdout",
          "text": [
            "[[11 22]\n",
            " [33 44]\n",
            " [55 66]]\n",
            "<class 'numpy.ndarray'>\n"
          ]
        }
      ]
    },
    {
      "cell_type": "code",
      "source": [
        "# index a one-dimensional array\n",
        "from numpy import array\n",
        "# define array\n",
        "data = array([11, 22, 33, 44, 55])\n",
        "# index data\n",
        "print(data[0])\n",
        "print(data[4])"
      ],
      "metadata": {
        "colab": {
          "base_uri": "https://localhost:8080/"
        },
        "id": "gVlsEtpaHSiq",
        "outputId": "777aa628-67a7-4b94-fc78-e5e1bace3e02"
      },
      "execution_count": 8,
      "outputs": [
        {
          "output_type": "stream",
          "name": "stdout",
          "text": [
            "11\n",
            "55\n"
          ]
        }
      ]
    },
    {
      "cell_type": "code",
      "source": [
        "# negative array indexing\n",
        "from numpy import array\n",
        "# define array\n",
        "data = array([11, 22, 33, 44, 55])\n",
        "# index data\n",
        "print(data[-1])\n",
        "print(data[-5])"
      ],
      "metadata": {
        "colab": {
          "base_uri": "https://localhost:8080/"
        },
        "id": "-5HnFBTgHW9z",
        "outputId": "b950c5fd-bd98-413e-d61c-324b36433953"
      },
      "execution_count": 9,
      "outputs": [
        {
          "output_type": "stream",
          "name": "stdout",
          "text": [
            "55\n",
            "11\n"
          ]
        }
      ]
    },
    {
      "cell_type": "code",
      "source": [
        "# index two-dimensional array\n",
        "from numpy import array\n",
        "# define array\n",
        "data = array([\n",
        "[11, 22],\n",
        "[33, 44],\n",
        "[55, 66]])\n",
        "# index data\n",
        "print(data[0,0])"
      ],
      "metadata": {
        "colab": {
          "base_uri": "https://localhost:8080/"
        },
        "id": "qp7ssDNgHerG",
        "outputId": "fa22de5c-a4b4-4ad7-9cf1-16dbd780c347"
      },
      "execution_count": 10,
      "outputs": [
        {
          "output_type": "stream",
          "name": "stdout",
          "text": [
            "11\n"
          ]
        }
      ]
    },
    {
      "cell_type": "code",
      "source": [
        "# index row of two-dimensional array\n",
        "from numpy import array\n",
        "# define array\n",
        "data = array([\n",
        "[11, 22],\n",
        "[33, 44],\n",
        "[55, 66]])\n",
        "# index data\n",
        "print(data[0,])\n",
        "print(data[0])"
      ],
      "metadata": {
        "colab": {
          "base_uri": "https://localhost:8080/"
        },
        "id": "S0vVUxBDHhsH",
        "outputId": "9ecebc8c-32e8-443f-bc1e-70d3b5938c00"
      },
      "execution_count": 11,
      "outputs": [
        {
          "output_type": "stream",
          "name": "stdout",
          "text": [
            "[11 22]\n",
            "[11 22]\n"
          ]
        }
      ]
    },
    {
      "cell_type": "code",
      "source": [
        "# slice a one-dimensional array\n",
        "from numpy import array\n",
        "# define array\n",
        "data = array([11, 22, 33, 44, 55])\n",
        "print(data[:])"
      ],
      "metadata": {
        "colab": {
          "base_uri": "https://localhost:8080/"
        },
        "id": "VNQyDJywHpcm",
        "outputId": "d8d0a000-650a-4d2f-ff66-e8c7e7979674"
      },
      "execution_count": 12,
      "outputs": [
        {
          "output_type": "stream",
          "name": "stdout",
          "text": [
            "[11 22 33 44 55]\n"
          ]
        }
      ]
    },
    {
      "cell_type": "code",
      "source": [
        "# slice a subset of a one-dimensional array\n",
        "from numpy import array\n",
        "# define array\n",
        "data = array([11, 22, 33, 44, 55])\n",
        "print(data[0:1])"
      ],
      "metadata": {
        "colab": {
          "base_uri": "https://localhost:8080/"
        },
        "id": "2VEsm-fQHs8B",
        "outputId": "7ae6badf-6f48-4f33-fb80-24500b06275f"
      },
      "execution_count": 13,
      "outputs": [
        {
          "output_type": "stream",
          "name": "stdout",
          "text": [
            "[11]\n"
          ]
        }
      ]
    },
    {
      "cell_type": "code",
      "source": [
        "# negative slicing of a one-dimensional array\n",
        "from numpy import array\n",
        "# define array\n",
        "data = array([11, 22, 33, 44, 55])\n",
        "print(data[-2:])"
      ],
      "metadata": {
        "colab": {
          "base_uri": "https://localhost:8080/"
        },
        "id": "AKgl4NqHHwQY",
        "outputId": "18e73028-6112-4635-9b42-c7a77f2f57af"
      },
      "execution_count": 14,
      "outputs": [
        {
          "output_type": "stream",
          "name": "stdout",
          "text": [
            "[44 55]\n"
          ]
        }
      ]
    },
    {
      "cell_type": "code",
      "source": [
        "# split input and output data\n",
        "from numpy import array\n",
        "# define array\n",
        "data = array([\n",
        "[11, 22, 33],\n",
        "[44, 55, 66],\n",
        "[77, 88, 99]])\n",
        "# separate data\n",
        "X, y = data[:, :-1], data[:, -1]\n",
        "print(X)\n",
        "print(y)"
      ],
      "metadata": {
        "colab": {
          "base_uri": "https://localhost:8080/"
        },
        "id": "39kKliNMH4gA",
        "outputId": "d5b7ed59-e7b8-47e5-94b3-d781ade973a8"
      },
      "execution_count": 15,
      "outputs": [
        {
          "output_type": "stream",
          "name": "stdout",
          "text": [
            "[[11 22]\n",
            " [44 55]\n",
            " [77 88]]\n",
            "[33 66 99]\n"
          ]
        }
      ]
    },
    {
      "cell_type": "code",
      "source": [
        "# split train and test data\n",
        "from numpy import array\n",
        "# define array\n",
        "data = array([\n",
        "[11, 22, 33],\n",
        "[44, 55, 66],\n",
        "[77, 88, 99]])\n",
        "# separate data\n",
        "split = 2\n",
        "train,test = data[:split,:],data[split:,:]\n",
        "print(train)\n",
        "print(test)"
      ],
      "metadata": {
        "colab": {
          "base_uri": "https://localhost:8080/"
        },
        "id": "XkXnyugqH78z",
        "outputId": "d7713366-ecbb-4897-821e-b5e15a808227"
      },
      "execution_count": 16,
      "outputs": [
        {
          "output_type": "stream",
          "name": "stdout",
          "text": [
            "[[11 22 33]\n",
            " [44 55 66]]\n",
            "[[77 88 99]]\n"
          ]
        }
      ]
    },
    {
      "cell_type": "code",
      "source": [
        "# shape of one-dimensional array\n",
        "from numpy import array\n",
        "# define array\n",
        "data = array([11, 22, 33, 44, 55])\n",
        "print(data.shape)"
      ],
      "metadata": {
        "colab": {
          "base_uri": "https://localhost:8080/"
        },
        "id": "cbhvyG-9H-hl",
        "outputId": "fe32263a-a3a2-4939-d064-3d32917c2be1"
      },
      "execution_count": 17,
      "outputs": [
        {
          "output_type": "stream",
          "name": "stdout",
          "text": [
            "(5,)\n"
          ]
        }
      ]
    },
    {
      "cell_type": "code",
      "source": [
        "# shape of a two-dimensional array\n",
        "from numpy import array\n",
        "# list of data\n",
        "data = [[11, 22],\n",
        "[33, 44],\n",
        "[55, 66]]\n",
        "# array of data\n",
        "data = array(data)\n",
        "print(data.shape)"
      ],
      "metadata": {
        "colab": {
          "base_uri": "https://localhost:8080/"
        },
        "id": "d0JHue_RIFag",
        "outputId": "a12a0fb6-051b-4638-eea2-7f7874ff2f0b"
      },
      "execution_count": 18,
      "outputs": [
        {
          "output_type": "stream",
          "name": "stdout",
          "text": [
            "(3, 2)\n"
          ]
        }
      ]
    },
    {
      "cell_type": "code",
      "source": [
        "# row and column shape of two-dimensional array\n",
        "from numpy import array\n",
        "# list of data\n",
        "data = [[11, 22],\n",
        "        [33, 44],\n",
        "        [55, 66]]\n",
        "# array of data\n",
        "data = array(data)\n",
        "print('Rows: %d' % data.shape[0])\n",
        "print('Cols: %d' % data.shape[1])"
      ],
      "metadata": {
        "colab": {
          "base_uri": "https://localhost:8080/"
        },
        "id": "Tnl0boNlIInC",
        "outputId": "f2b17200-e819-4515-ee2b-cc22b71d41b2"
      },
      "execution_count": 19,
      "outputs": [
        {
          "output_type": "stream",
          "name": "stdout",
          "text": [
            "Rows: 3\n",
            "Cols: 2\n"
          ]
        }
      ]
    },
    {
      "cell_type": "code",
      "source": [
        "# reshape 1D array to 2D\n",
        "from numpy import array\n",
        "# define array\n",
        "data = array([11, 22, 33, 44, 55])\n",
        "print(data.shape)\n",
        "# reshape\n",
        "data = data.reshape((data.shape[0], 1))\n",
        "print(data.shape)"
      ],
      "metadata": {
        "id": "IFsx_pBxISvY",
        "outputId": "f28bd2aa-f2d3-4caa-b9de-c2dfd263cc09",
        "colab": {
          "base_uri": "https://localhost:8080/"
        }
      },
      "execution_count": 20,
      "outputs": [
        {
          "output_type": "stream",
          "name": "stdout",
          "text": [
            "(5,)\n",
            "(5, 1)\n"
          ]
        }
      ]
    },
    {
      "cell_type": "code",
      "source": [
        "# reshape 2D array to 3D\n",
        "from numpy import array\n",
        "# list of data\n",
        "data = [[11, 22],\n",
        "[33, 44],\n",
        "[55, 66]]\n",
        "# array of data\n",
        "data = array(data)\n",
        "print(data.shape)\n",
        "# reshape\n",
        "data = data.reshape((data.shape[0], data.shape[1], 1))\n",
        "print(data.shape)"
      ],
      "metadata": {
        "id": "kyVGZas7IV0G",
        "outputId": "ec54b5cd-73cf-4d84-c5d0-2ad5154fc316",
        "colab": {
          "base_uri": "https://localhost:8080/"
        }
      },
      "execution_count": 21,
      "outputs": [
        {
          "output_type": "stream",
          "name": "stdout",
          "text": [
            "(3, 2)\n",
            "(3, 2, 1)\n"
          ]
        }
      ]
    },
    {
      "cell_type": "code",
      "source": [
        "# tensor product\n",
        "from numpy import array\n",
        "from numpy import tensordot\n",
        "# define first vector\n",
        "A = array([1,2])\n",
        "# define second vector\n",
        "B = array([3,4])\n",
        "# calculate tensor product\n",
        "C = tensordot(A, B, axes=0)\n",
        "print(C)"
      ],
      "metadata": {
        "colab": {
          "base_uri": "https://localhost:8080/"
        },
        "id": "7zThQCgEj62A",
        "outputId": "18107afd-9b3e-4fa7-fecf-99b257dcbb40"
      },
      "execution_count": 22,
      "outputs": [
        {
          "output_type": "stream",
          "name": "stdout",
          "text": [
            "[[3 4]\n",
            " [6 8]]\n"
          ]
        }
      ]
    },
    {
      "cell_type": "code",
      "source": [
        "# LU decomposition\n",
        "from numpy import array\n",
        "from scipy.linalg import lu\n",
        "# define a square matrix\n",
        "A = array([\n",
        "[1, 2, 3],\n",
        "[4, 5, 6],\n",
        "[7, 8, 9]])\n",
        "print(A)\n",
        "# factorize\n",
        "P, L, U = lu(A)\n",
        "print(P)\n",
        "print(L)\n",
        "print(U)\n",
        "# reconstruct\n",
        "B = P.dot(L).dot(U)\n",
        "print(B)"
      ],
      "metadata": {
        "colab": {
          "base_uri": "https://localhost:8080/"
        },
        "id": "0b2WcrMNmd21",
        "outputId": "7fb72207-8028-437f-c043-9bd0cd409986"
      },
      "execution_count": 23,
      "outputs": [
        {
          "output_type": "stream",
          "name": "stdout",
          "text": [
            "[[1 2 3]\n",
            " [4 5 6]\n",
            " [7 8 9]]\n",
            "[[0. 1. 0.]\n",
            " [0. 0. 1.]\n",
            " [1. 0. 0.]]\n",
            "[[1.         0.         0.        ]\n",
            " [0.14285714 1.         0.        ]\n",
            " [0.57142857 0.5        1.        ]]\n",
            "[[7.         8.         9.        ]\n",
            " [0.         0.85714286 1.71428571]\n",
            " [0.         0.         0.        ]]\n",
            "[[1. 2. 3.]\n",
            " [4. 5. 6.]\n",
            " [7. 8. 9.]]\n"
          ]
        }
      ]
    },
    {
      "cell_type": "code",
      "source": [
        "# QR decomposition\n",
        "from numpy import array\n",
        "from numpy.linalg import qr\n",
        "# define rectangular matrix\n",
        "A = array([\n",
        "[1, 2],\n",
        "[3, 4],\n",
        "[5, 6]])\n",
        "print(A)\n",
        "# factorize\n",
        "Q, R = qr(A, 'complete')\n",
        "print(Q)\n",
        "print(R)\n",
        "# reconstruct\n",
        "B = Q.dot(R)\n",
        "print(B)"
      ],
      "metadata": {
        "colab": {
          "base_uri": "https://localhost:8080/"
        },
        "id": "5uLRGHa_nYFE",
        "outputId": "9485b462-1f04-4ef8-ba0e-e141d99f2194"
      },
      "execution_count": 24,
      "outputs": [
        {
          "output_type": "stream",
          "name": "stdout",
          "text": [
            "[[1 2]\n",
            " [3 4]\n",
            " [5 6]]\n",
            "[[-0.16903085  0.89708523  0.40824829]\n",
            " [-0.50709255  0.27602622 -0.81649658]\n",
            " [-0.84515425 -0.34503278  0.40824829]]\n",
            "[[-5.91607978 -7.43735744]\n",
            " [ 0.          0.82807867]\n",
            " [ 0.          0.        ]]\n",
            "[[1. 2.]\n",
            " [3. 4.]\n",
            " [5. 6.]]\n"
          ]
        }
      ]
    },
    {
      "cell_type": "code",
      "source": [
        "# Cholesky decomposition\n",
        "from numpy import array\n",
        "from numpy.linalg import cholesky\n",
        "# define symmetrical matrix\n",
        "A = array([\n",
        "[2, 1, 1],\n",
        "[1, 2, 1],\n",
        "[1, 1, 2]])\n",
        "print(A)\n",
        "# factorize\n",
        "L = cholesky(A)\n",
        "print(L)\n",
        "# reconstruct\n",
        "B = L.dot(L.T)\n",
        "print(B)"
      ],
      "metadata": {
        "colab": {
          "base_uri": "https://localhost:8080/"
        },
        "id": "7WxpGykhnlfW",
        "outputId": "170ce26e-cee0-474e-bf20-b08952ae89ec"
      },
      "execution_count": 25,
      "outputs": [
        {
          "output_type": "stream",
          "name": "stdout",
          "text": [
            "[[2 1 1]\n",
            " [1 2 1]\n",
            " [1 1 2]]\n",
            "[[1.41421356 0.         0.        ]\n",
            " [0.70710678 1.22474487 0.        ]\n",
            " [0.70710678 0.40824829 1.15470054]]\n",
            "[[2. 1. 1.]\n",
            " [1. 2. 1.]\n",
            " [1. 1. 2.]]\n"
          ]
        }
      ]
    },
    {
      "cell_type": "code",
      "source": [
        "# eigendecomposition\n",
        "from numpy import array\n",
        "from numpy.linalg import eig\n",
        "# define matrix\n",
        "A = array([\n",
        "[1, 2, 3],\n",
        "[4, 5, 6],\n",
        "[7, 8, 9]])\n",
        "print(A)\n",
        "# factorize\n",
        "values, vectors = eig(A)\n",
        "print(values)\n",
        "print(vectors)"
      ],
      "metadata": {
        "colab": {
          "base_uri": "https://localhost:8080/"
        },
        "id": "yMinyZvftjRB",
        "outputId": "9b4cc87b-7145-41ca-8e9e-352c3f9f759f"
      },
      "execution_count": 26,
      "outputs": [
        {
          "output_type": "stream",
          "name": "stdout",
          "text": [
            "[[1 2 3]\n",
            " [4 5 6]\n",
            " [7 8 9]]\n",
            "[ 1.61168440e+01 -1.11684397e+00 -1.30367773e-15]\n",
            "[[-0.23197069 -0.78583024  0.40824829]\n",
            " [-0.52532209 -0.08675134 -0.81649658]\n",
            " [-0.8186735   0.61232756  0.40824829]]\n"
          ]
        }
      ]
    },
    {
      "cell_type": "code",
      "source": [
        "# confirm eigenvector\n",
        "from numpy import array\n",
        "from numpy.linalg import eig\n",
        "# define matrix\n",
        "A = array([\n",
        "[1, 2, 3],\n",
        "[4, 5, 6],\n",
        "[7, 8, 9]])\n",
        "# factorize\n",
        "values, vectors = eig(A)\n",
        "# confirm first eigenvector\n",
        "B = A.dot(vectors[:, 0])\n",
        "print(B)\n",
        "C = vectors[:, 0] * values[0]\n",
        "print(C)"
      ],
      "metadata": {
        "colab": {
          "base_uri": "https://localhost:8080/"
        },
        "id": "kIyEKiv6twla",
        "outputId": "cf9373d3-2b2a-428d-a594-0663d82e28c4"
      },
      "execution_count": 27,
      "outputs": [
        {
          "output_type": "stream",
          "name": "stdout",
          "text": [
            "[ -3.73863537  -8.46653421 -13.19443305]\n",
            "[ -3.73863537  -8.46653421 -13.19443305]\n"
          ]
        }
      ]
    },
    {
      "cell_type": "code",
      "source": [
        "# reconstruct matrix\n",
        "from numpy import diag\n",
        "from numpy.linalg import inv\n",
        "from numpy import array\n",
        "from numpy.linalg import eig\n",
        "# define matrix\n",
        "A = array([\n",
        "[1, 2, 3],\n",
        "[4, 5, 6],\n",
        "[7, 8, 9]])\n",
        "print(A)\n",
        "# factorize\n",
        "values, vectors = eig(A)\n",
        "# create matrix from eigenvectors\n",
        "Q = vectors\n",
        "# create inverse of eigenvectors matrix\n",
        "R = inv(Q)\n",
        "# create diagonal matrix from eigenvalues\n",
        "L = diag(values)\n",
        "# reconstruct the original matrix\n",
        "B = Q.dot(L).dot(R)\n",
        "print(B)"
      ],
      "metadata": {
        "colab": {
          "base_uri": "https://localhost:8080/"
        },
        "id": "4G3pStDat_xg",
        "outputId": "eb3b7ff3-52ef-4a60-982f-69838619dc65"
      },
      "execution_count": 28,
      "outputs": [
        {
          "output_type": "stream",
          "name": "stdout",
          "text": [
            "[[1 2 3]\n",
            " [4 5 6]\n",
            " [7 8 9]]\n",
            "[[1. 2. 3.]\n",
            " [4. 5. 6.]\n",
            " [7. 8. 9.]]\n"
          ]
        }
      ]
    },
    {
      "cell_type": "code",
      "source": [
        "# singular-value decomposition\n",
        "from numpy import array\n",
        "from scipy.linalg import svd\n",
        "# define a matrix\n",
        "A = array([\n",
        "[1, 2],\n",
        "[3, 4],\n",
        "[5, 6]])\n",
        "print(A)\n",
        "# factorize\n",
        "U, s, V = svd(A)\n",
        "print(U)\n",
        "print(s)\n",
        "print(V)"
      ],
      "metadata": {
        "colab": {
          "base_uri": "https://localhost:8080/"
        },
        "id": "bAjPCNLbuLc_",
        "outputId": "a1492f07-64dd-466e-a316-b83561849650"
      },
      "execution_count": 29,
      "outputs": [
        {
          "output_type": "stream",
          "name": "stdout",
          "text": [
            "[[1 2]\n",
            " [3 4]\n",
            " [5 6]]\n",
            "[[-0.2298477   0.88346102  0.40824829]\n",
            " [-0.52474482  0.24078249 -0.81649658]\n",
            " [-0.81964194 -0.40189603  0.40824829]]\n",
            "[9.52551809 0.51430058]\n",
            "[[-0.61962948 -0.78489445]\n",
            " [-0.78489445  0.61962948]]\n"
          ]
        }
      ]
    },
    {
      "cell_type": "code",
      "source": [
        "# reconstruct rectangular matrix from svd\n",
        "from numpy import array\n",
        "from numpy import diag\n",
        "from numpy import zeros\n",
        "from scipy.linalg import svd\n",
        "# define matrix\n",
        "A = array([\n",
        "[1, 2],\n",
        "[3, 4],\n",
        "[5, 6]])\n",
        "print(A)\n",
        "# factorize\n",
        "U, s, V = svd(A)\n",
        "# create m x n Sigma matrix\n",
        "Sigma = zeros((A.shape[0], A.shape[1]))\n",
        "# populate Sigma with n x n diagonal matrix\n",
        "Sigma[:A.shape[1], :A.shape[1]] = diag(s)\n",
        "# reconstruct matrix\n",
        "B = U.dot(Sigma.dot(V))\n",
        "print(B)"
      ],
      "metadata": {
        "colab": {
          "base_uri": "https://localhost:8080/"
        },
        "id": "gIstBhfwuYcg",
        "outputId": "a0dd8330-a03b-49c5-dd16-26b5ca986b25"
      },
      "execution_count": 30,
      "outputs": [
        {
          "output_type": "stream",
          "name": "stdout",
          "text": [
            "[[1 2]\n",
            " [3 4]\n",
            " [5 6]]\n",
            "[[1. 2.]\n",
            " [3. 4.]\n",
            " [5. 6.]]\n"
          ]
        }
      ]
    },
    {
      "cell_type": "code",
      "source": [
        "# reconstruct square matrix from svd\n",
        "from numpy import array\n",
        "from numpy import diag\n",
        "from scipy.linalg import svd\n",
        "# define matrix\n",
        "A = array([\n",
        "[1, 2, 3],\n",
        "[4, 5, 6],\n",
        "[7, 8, 9]])\n",
        "print(A)\n",
        "# factorize\n",
        "U, s, V = svd(A)\n",
        "# create n x n Sigma matrix\n",
        "Sigma = diag(s)\n",
        "# reconstruct matrix\n",
        "B = U.dot(Sigma.dot(V))\n",
        "print(B)"
      ],
      "metadata": {
        "colab": {
          "base_uri": "https://localhost:8080/"
        },
        "id": "RLfprHycupaD",
        "outputId": "c9f00183-5bce-47b1-c696-092e9079074c"
      },
      "execution_count": 31,
      "outputs": [
        {
          "output_type": "stream",
          "name": "stdout",
          "text": [
            "[[1 2 3]\n",
            " [4 5 6]\n",
            " [7 8 9]]\n",
            "[[1. 2. 3.]\n",
            " [4. 5. 6.]\n",
            " [7. 8. 9.]]\n"
          ]
        }
      ]
    },
    {
      "cell_type": "code",
      "source": [
        "# pseudoinverse\n",
        "from numpy import array\n",
        "from numpy.linalg import pinv\n",
        "# define matrix\n",
        "A = array([\n",
        "[0.1, 0.2],\n",
        "[0.3, 0.4],\n",
        "[0.5, 0.6],\n",
        "[0.7, 0.8]])\n",
        "print(A)\n",
        "# calculate pseudoinverse\n",
        "B = pinv(A)\n",
        "print(B)"
      ],
      "metadata": {
        "colab": {
          "base_uri": "https://localhost:8080/"
        },
        "id": "6uOxVE4Yu0XJ",
        "outputId": "960d91af-050e-42be-ecc6-138d1ae27169"
      },
      "execution_count": 32,
      "outputs": [
        {
          "output_type": "stream",
          "name": "stdout",
          "text": [
            "[[0.1 0.2]\n",
            " [0.3 0.4]\n",
            " [0.5 0.6]\n",
            " [0.7 0.8]]\n",
            "[[-1.00000000e+01 -5.00000000e+00  1.42385628e-14  5.00000000e+00]\n",
            " [ 8.50000000e+00  4.50000000e+00  5.00000000e-01 -3.50000000e+00]]\n"
          ]
        }
      ]
    },
    {
      "cell_type": "code",
      "source": [
        "# pseudoinverse via svd\n",
        "from numpy import array\n",
        "from numpy.linalg import svd\n",
        "from numpy import zeros\n",
        "from numpy import diag\n",
        "# define matrix\n",
        "A = array([\n",
        "[0.1, 0.2],\n",
        "[0.3, 0.4],\n",
        "[0.5, 0.6],\n",
        "[0.7, 0.8]])\n",
        "print(A)\n",
        "# factorize\n",
        "U, s, V = svd(A)\n",
        "# reciprocals of s\n",
        "d = 1.0 / s\n",
        "# create m x n D matrix\n",
        "D = zeros(A.shape)\n",
        "# populate D with n x n diagonal matrix\n",
        "D[:A.shape[1], :A.shape[1]] = diag(d)\n",
        "# calculate pseudoinverse\n",
        "B = V.T.dot(D.T).dot(U.T)\n",
        "print(B)"
      ],
      "metadata": {
        "colab": {
          "base_uri": "https://localhost:8080/"
        },
        "id": "gkffyezgu_S7",
        "outputId": "7f9f9f89-37c4-428b-bb0d-1256fbda13b4"
      },
      "execution_count": 33,
      "outputs": [
        {
          "output_type": "stream",
          "name": "stdout",
          "text": [
            "[[0.1 0.2]\n",
            " [0.3 0.4]\n",
            " [0.5 0.6]\n",
            " [0.7 0.8]]\n",
            "[[-1.00000000e+01 -5.00000000e+00  1.42578328e-14  5.00000000e+00]\n",
            " [ 8.50000000e+00  4.50000000e+00  5.00000000e-01 -3.50000000e+00]]\n"
          ]
        }
      ]
    },
    {
      "cell_type": "code",
      "source": [
        "# data reduction with svd\n",
        "from numpy import array\n",
        "from numpy import diag\n",
        "from numpy import zeros\n",
        "from scipy.linalg import svd\n",
        "# define matrix\n",
        "A = array([\n",
        "[1,2,3,4,5,6,7,8,9,10],\n",
        "[11,12,13,14,15,16,17,18,19,20],\n",
        "[21,22,23,24,25,26,27,28,29,30]])\n",
        "print(A)\n",
        "# factorize\n",
        "U, s, V = svd(A)\n",
        "# create m x n Sigma matrix\n",
        "Sigma = zeros((A.shape[0], A.shape[1]))\n",
        "# populate Sigma with n x n diagonal matrix\n",
        "Sigma[:A.shape[0], :A.shape[0]] = diag(s)\n",
        "# select\n",
        "n_elements = 2\n",
        "Sigma = Sigma[:, :n_elements]\n",
        "V = V[:n_elements, :]\n",
        "# reconstruct\n",
        "B = U.dot(Sigma.dot(V))\n",
        "print(B)\n",
        "# transform\n",
        "T = U.dot(Sigma)\n",
        "print(T)\n",
        "T = A.dot(V.T)\n",
        "print(T)"
      ],
      "metadata": {
        "colab": {
          "base_uri": "https://localhost:8080/"
        },
        "id": "M5jIT9pFvMHk",
        "outputId": "b36900e1-3e03-4924-a510-6f677c4f67ca"
      },
      "execution_count": 34,
      "outputs": [
        {
          "output_type": "stream",
          "name": "stdout",
          "text": [
            "[[ 1  2  3  4  5  6  7  8  9 10]\n",
            " [11 12 13 14 15 16 17 18 19 20]\n",
            " [21 22 23 24 25 26 27 28 29 30]]\n",
            "[[ 1.  2.  3.  4.  5.  6.  7.  8.  9. 10.]\n",
            " [11. 12. 13. 14. 15. 16. 17. 18. 19. 20.]\n",
            " [21. 22. 23. 24. 25. 26. 27. 28. 29. 30.]]\n",
            "[[-18.52157747   6.47697214]\n",
            " [-49.81310011   1.91182038]\n",
            " [-81.10462276  -2.65333138]]\n",
            "[[-18.52157747   6.47697214]\n",
            " [-49.81310011   1.91182038]\n",
            " [-81.10462276  -2.65333138]]\n"
          ]
        }
      ]
    },
    {
      "cell_type": "code",
      "source": [
        "# svd data reduction in scikit-learn\n",
        "from numpy import array\n",
        "from sklearn.decomposition import TruncatedSVD\n",
        "# define matrix\n",
        "A = array([\n",
        "[1,2,3,4,5,6,7,8,9,10],\n",
        "[11,12,13,14,15,16,17,18,19,20],\n",
        "[21,22,23,24,25,26,27,28,29,30]])\n",
        "print(A)\n",
        "# create transform\n",
        "svd = TruncatedSVD(n_components=2)\n",
        "# fit transform\n",
        "svd.fit(A)\n",
        "# apply transform\n",
        "result = svd.transform(A)\n",
        "print(result)"
      ],
      "metadata": {
        "id": "_otGnOt3vUFX",
        "outputId": "89205fab-58e9-4b0e-baf7-049b7c3a9806",
        "colab": {
          "base_uri": "https://localhost:8080/"
        }
      },
      "execution_count": 35,
      "outputs": [
        {
          "output_type": "stream",
          "name": "stdout",
          "text": [
            "[[ 1  2  3  4  5  6  7  8  9 10]\n",
            " [11 12 13 14 15 16 17 18 19 20]\n",
            " [21 22 23 24 25 26 27 28 29 30]]\n",
            "[[18.52157747  6.47697214]\n",
            " [49.81310011  1.91182038]\n",
            " [81.10462276 -2.65333138]]\n"
          ]
        }
      ]
    },
    {
      "cell_type": "code",
      "source": [
        "# vector mean\n",
        "from numpy import array\n",
        "from numpy import mean\n",
        "# define vector\n",
        "v = array([1,2,3,4,5,6])\n",
        "print(v)\n",
        "# calculate mean\n",
        "result = mean(v)\n",
        "print(result)"
      ],
      "metadata": {
        "colab": {
          "base_uri": "https://localhost:8080/"
        },
        "id": "836xQUZDk4O3",
        "outputId": "c5a1bcac-74d5-4305-dd36-d9bf11fc909d"
      },
      "execution_count": 36,
      "outputs": [
        {
          "output_type": "stream",
          "name": "stdout",
          "text": [
            "[1 2 3 4 5 6]\n",
            "3.5\n"
          ]
        }
      ]
    },
    {
      "cell_type": "code",
      "source": [
        "# matrix means\n",
        "from numpy import array\n",
        "from numpy import mean\n",
        "# define matrix\n",
        "M = array([\n",
        "[1,2,3,4,5,6],\n",
        "[1,2,3,4,5,6]])\n",
        "print(M)\n",
        "# column means\n",
        "col_mean = mean(M, axis=0)\n",
        "print(col_mean)\n",
        "# row means\n",
        "row_mean = mean(M, axis=1)\n",
        "print(row_mean)"
      ],
      "metadata": {
        "colab": {
          "base_uri": "https://localhost:8080/"
        },
        "id": "drmvNxhIlE7D",
        "outputId": "4113769b-b7e8-44e9-8ab8-7f779eb5fc65"
      },
      "execution_count": 37,
      "outputs": [
        {
          "output_type": "stream",
          "name": "stdout",
          "text": [
            "[[1 2 3 4 5 6]\n",
            " [1 2 3 4 5 6]]\n",
            "[1. 2. 3. 4. 5. 6.]\n",
            "[3.5 3.5]\n"
          ]
        }
      ]
    },
    {
      "cell_type": "code",
      "source": [
        "# matrix means\n",
        "from numpy import array\n",
        "from numpy import mean\n",
        "# define matrix\n",
        "M = array([\n",
        "[1,2,3,4,5,6],\n",
        "[1,2,3,4,5,6]])\n",
        "print(M)\n",
        "# column means\n",
        "col_mean = mean(M, axis=0)\n",
        "print(col_mean)\n",
        "# row means\n",
        "row_mean = mean(M, axis=1)\n",
        "print(row_mean)"
      ],
      "metadata": {
        "colab": {
          "base_uri": "https://localhost:8080/"
        },
        "id": "ywdl9X6ClKyw",
        "outputId": "4a5151ce-8a81-45bf-8998-c8d065148946"
      },
      "execution_count": 38,
      "outputs": [
        {
          "output_type": "stream",
          "name": "stdout",
          "text": [
            "[[1 2 3 4 5 6]\n",
            " [1 2 3 4 5 6]]\n",
            "[1. 2. 3. 4. 5. 6.]\n",
            "[3.5 3.5]\n"
          ]
        }
      ]
    },
    {
      "cell_type": "code",
      "source": [
        "# vector variance\n",
        "from numpy import array\n",
        "from numpy import var\n",
        "# define vector\n",
        "v = array([1,2,3,4,5,6])\n",
        "print(v)\n",
        "# calculate variance\n",
        "result = var(v, ddof=1)\n",
        "print(result)"
      ],
      "metadata": {
        "id": "8mbYcfsAlYT1",
        "outputId": "a43fb195-cc70-41f1-d566-82b583c336ef",
        "colab": {
          "base_uri": "https://localhost:8080/"
        }
      },
      "execution_count": 39,
      "outputs": [
        {
          "output_type": "stream",
          "name": "stdout",
          "text": [
            "[1 2 3 4 5 6]\n",
            "3.5\n"
          ]
        }
      ]
    },
    {
      "cell_type": "code",
      "source": [
        "# vector mean\n",
        "from numpy import array\n",
        "from numpy import mean\n",
        "# define vector\n",
        "v = array([1,2,3,4,5,6])\n",
        "print(v)\n",
        "# calculate mean\n",
        "result = mean(v)\n",
        "print(result)"
      ],
      "metadata": {
        "id": "k0x90bGolZcF",
        "colab": {
          "base_uri": "https://localhost:8080/"
        },
        "outputId": "4ddfedf0-9cd5-4fd2-9638-d69072a66128"
      },
      "execution_count": 40,
      "outputs": [
        {
          "output_type": "stream",
          "name": "stdout",
          "text": [
            "[1 2 3 4 5 6]\n",
            "3.5\n"
          ]
        }
      ]
    },
    {
      "cell_type": "code",
      "source": [
        "# matrix means\n",
        "from numpy import array\n",
        "from numpy import mean\n",
        "# define matrix\n",
        "M = array([\n",
        "[1,2,3,4,5,6],\n",
        "[1,2,3,4,5,6]])\n",
        "print(M)\n",
        "# column means\n",
        "col_mean = mean(M, axis=0)\n",
        "print(col_mean)\n",
        "# row means\n",
        "row_mean = mean(M, axis=1)\n",
        "print(row_mean)"
      ],
      "metadata": {
        "colab": {
          "base_uri": "https://localhost:8080/"
        },
        "id": "UexG5kj8WXyZ",
        "outputId": "02d07741-c87b-4173-843b-33bf326aa9ca"
      },
      "execution_count": 41,
      "outputs": [
        {
          "output_type": "stream",
          "name": "stdout",
          "text": [
            "[[1 2 3 4 5 6]\n",
            " [1 2 3 4 5 6]]\n",
            "[1. 2. 3. 4. 5. 6.]\n",
            "[3.5 3.5]\n"
          ]
        }
      ]
    },
    {
      "cell_type": "code",
      "source": [
        "# vector variance\n",
        "from numpy import array\n",
        "from numpy import var\n",
        "# define vector\n",
        "v = array([1,2,3,4,5,6])\n",
        "print(v)\n",
        "# calculate variance\n",
        "result = var(v, ddof=1)\n",
        "print(result)"
      ],
      "metadata": {
        "colab": {
          "base_uri": "https://localhost:8080/"
        },
        "id": "o9kRyDvQWcvq",
        "outputId": "27b982ad-e072-4cb4-d51c-f04e13eb65a4"
      },
      "execution_count": 42,
      "outputs": [
        {
          "output_type": "stream",
          "name": "stdout",
          "text": [
            "[1 2 3 4 5 6]\n",
            "3.5\n"
          ]
        }
      ]
    },
    {
      "cell_type": "code",
      "source": [
        "# matrix variances\n",
        "from numpy import array\n",
        "from numpy import var\n",
        "# define matrix\n",
        "M = array([\n",
        "[1,2,3,4,5,6],\n",
        "[1,2,3,4,5,6]])\n",
        "print(M)\n",
        "# column variances\n",
        "col_var = var(M, ddof=1, axis=0)\n",
        "print(col_var)\n",
        "# row variances\n",
        "row_var = var(M, ddof=1, axis=1)\n",
        "print(row_var)"
      ],
      "metadata": {
        "colab": {
          "base_uri": "https://localhost:8080/"
        },
        "id": "OSSA0K3QWfq-",
        "outputId": "c90649e5-fa9e-4851-a72e-86020234bc22"
      },
      "execution_count": 43,
      "outputs": [
        {
          "output_type": "stream",
          "name": "stdout",
          "text": [
            "[[1 2 3 4 5 6]\n",
            " [1 2 3 4 5 6]]\n",
            "[0. 0. 0. 0. 0. 0.]\n",
            "[3.5 3.5]\n"
          ]
        }
      ]
    },
    {
      "cell_type": "code",
      "source": [
        "# matrix standard deviation\n",
        "from numpy import array\n",
        "from numpy import std\n",
        "# define matrix\n",
        "M = array([\n",
        "[1,2,3,4,5,6],\n",
        "[1,2,3,4,5,6]])\n",
        "print(M)\n",
        "# column standard deviations\n",
        "col_std = std(M, ddof=1, axis=0)\n",
        "print(col_std)\n",
        "# row standard deviations\n",
        "row_std = std(M, ddof=1, axis=1)\n",
        "print(row_std)"
      ],
      "metadata": {
        "colab": {
          "base_uri": "https://localhost:8080/"
        },
        "id": "xSqWDzT7Wker",
        "outputId": "93f71d00-3f2e-4bfc-c61f-bf2fee1d1805"
      },
      "execution_count": 44,
      "outputs": [
        {
          "output_type": "stream",
          "name": "stdout",
          "text": [
            "[[1 2 3 4 5 6]\n",
            " [1 2 3 4 5 6]]\n",
            "[0. 0. 0. 0. 0. 0.]\n",
            "[1.87082869 1.87082869]\n"
          ]
        }
      ]
    },
    {
      "cell_type": "code",
      "source": [
        "# vector covariance\n",
        "from numpy import array\n",
        "from numpy import cov\n",
        "# define first vector\n",
        "x = array([1,2,3,4,5,6,7,8,9])\n",
        "print(x)\n",
        "# define second covariance\n",
        "y = array([9,8,7,6,5,4,3,2,1])\n",
        "print(y)\n",
        "# calculate covariance\n",
        "Sigma = cov(x,y)[0,1]\n",
        "print(Sigma)"
      ],
      "metadata": {
        "colab": {
          "base_uri": "https://localhost:8080/"
        },
        "id": "zoF1BSz7WnpN",
        "outputId": "f4cde878-7c2c-4ca0-9469-ba6d74f11240"
      },
      "execution_count": 46,
      "outputs": [
        {
          "output_type": "stream",
          "name": "stdout",
          "text": [
            "[1 2 3 4 5 6 7 8 9]\n",
            "[9 8 7 6 5 4 3 2 1]\n",
            "-7.5\n"
          ]
        }
      ]
    },
    {
      "cell_type": "code",
      "source": [
        "# vector correlation\n",
        "from numpy import array\n",
        "from numpy import corrcoef\n",
        "# define first vector\n",
        "x = array([1,2,3,4,5,6,7,8,9])\n",
        "print(x)\n",
        "# define second vector\n",
        "y = array([9,8,7,6,5,4,3,2,1])\n",
        "print(y)\n",
        "# calculate correlation\n",
        "corr = corrcoef(x,y)[0,1]\n",
        "print(corr)"
      ],
      "metadata": {
        "colab": {
          "base_uri": "https://localhost:8080/"
        },
        "id": "T684vH_iWuXR",
        "outputId": "4272aff8-fe57-4f44-9263-146ba6c85f9a"
      },
      "execution_count": 47,
      "outputs": [
        {
          "output_type": "stream",
          "name": "stdout",
          "text": [
            "[1 2 3 4 5 6 7 8 9]\n",
            "[9 8 7 6 5 4 3 2 1]\n",
            "-1.0\n"
          ]
        }
      ]
    },
    {
      "cell_type": "code",
      "source": [
        "# covariance matrix\n",
        "from numpy import array\n",
        "from numpy import cov\n",
        "# define matrix of observations\n",
        "X = array([\n",
        "[1, 5, 8],\n",
        "[3, 5, 11],\n",
        "[2, 4, 9],\n",
        "[3, 6, 10],\n",
        "[1, 5, 10]])\n",
        "print(X)\n",
        "# calculate covariance matrix\n",
        "Sigma = cov(X.T)\n",
        "print(Sigma)"
      ],
      "metadata": {
        "colab": {
          "base_uri": "https://localhost:8080/"
        },
        "id": "uYg_xRpgWw3D",
        "outputId": "cb7b4c10-aa1d-438d-9370-aab18a3e547e"
      },
      "execution_count": 48,
      "outputs": [
        {
          "output_type": "stream",
          "name": "stdout",
          "text": [
            "[[ 1  5  8]\n",
            " [ 3  5 11]\n",
            " [ 2  4  9]\n",
            " [ 3  6 10]\n",
            " [ 1  5 10]]\n",
            "[[1.   0.25 0.75]\n",
            " [0.25 0.5  0.25]\n",
            " [0.75 0.25 1.3 ]]\n"
          ]
        }
      ]
    },
    {
      "cell_type": "code",
      "source": [
        "# principal component analysis\n",
        "from numpy import array\n",
        "from numpy import mean\n",
        "from numpy import cov\n",
        "from numpy.linalg import eig\n",
        "# define matrix\n",
        "A = array([\n",
        "[1, 2],\n",
        "[3, 4],\n",
        "[5, 6]])\n",
        "print(A)\n",
        "# column means\n",
        "M = mean(A.T, axis=1)\n",
        "# center columns by subtracting column means\n",
        "C = A - M\n",
        "# calculate covariance matrix of centered matrix\n",
        "V = cov(C.T)\n",
        "# factorize covariance matrix\n",
        "values, vectors = eig(V)\n",
        "print(vectors)\n",
        "print(values)\n",
        "# project data\n",
        "P = vectors.T.dot(C.T)\n",
        "print(P.T)"
      ],
      "metadata": {
        "colab": {
          "base_uri": "https://localhost:8080/"
        },
        "id": "JPXsj4FOW1vS",
        "outputId": "378f71d6-e1b2-48bc-ba89-862acb264a81"
      },
      "execution_count": 49,
      "outputs": [
        {
          "output_type": "stream",
          "name": "stdout",
          "text": [
            "[[1 2]\n",
            " [3 4]\n",
            " [5 6]]\n",
            "[[ 0.70710678 -0.70710678]\n",
            " [ 0.70710678  0.70710678]]\n",
            "[8. 0.]\n",
            "[[-2.82842712  0.        ]\n",
            " [ 0.          0.        ]\n",
            " [ 2.82842712  0.        ]]\n"
          ]
        }
      ]
    },
    {
      "cell_type": "code",
      "source": [
        "# principal component analysis with scikit-learn\n",
        "from numpy import array\n",
        "from sklearn.decomposition import PCA\n",
        "# define matrix\n",
        "A = array([\n",
        "[1, 2],\n",
        "[3, 4],\n",
        "[5, 6]])\n",
        "print(A)\n",
        "# create the transform\n",
        "pca = PCA(2)\n",
        "# fit transform\n",
        "pca.fit(A)\n",
        "# access values and vectors\n",
        "print(pca.components_)\n",
        "print(pca.explained_variance_)\n",
        "# transform data\n",
        "B = pca.transform(A)\n",
        "print(B)"
      ],
      "metadata": {
        "colab": {
          "base_uri": "https://localhost:8080/"
        },
        "id": "bUNgYYJgW25m",
        "outputId": "aa4107b8-4d40-4512-b9d1-1da1d7428d58"
      },
      "execution_count": 50,
      "outputs": [
        {
          "output_type": "stream",
          "name": "stdout",
          "text": [
            "[[1 2]\n",
            " [3 4]\n",
            " [5 6]]\n",
            "[[ 0.70710678  0.70710678]\n",
            " [-0.70710678  0.70710678]]\n",
            "[8. 0.]\n",
            "[[-2.82842712e+00 -2.22044605e-16]\n",
            " [ 0.00000000e+00  0.00000000e+00]\n",
            " [ 2.82842712e+00  2.22044605e-16]]\n"
          ]
        }
      ]
    },
    {
      "cell_type": "code",
      "source": [
        "# linear regression dataset\n",
        "from numpy import array\n",
        "from matplotlib import pyplot\n",
        "# define dataset\n",
        "data = array([\n",
        "[0.05, 0.12],\n",
        "[0.18, 0.22],\n",
        "[0.31, 0.35],\n",
        "[0.42, 0.38],\n",
        "[0.5, 0.49]])\n",
        "print(data)\n",
        "# split into inputs and outputs\n",
        "X, y = data[:,0], data[:,1]\n",
        "X = X.reshape((len(X), 1))\n",
        "# scatter plot\n",
        "pyplot.scatter(X, y)\n",
        "pyplot.show()"
      ],
      "metadata": {
        "colab": {
          "base_uri": "https://localhost:8080/",
          "height": 517
        },
        "id": "1Ze0DVMpW7b9",
        "outputId": "ca18ff71-bf12-43dc-9ad4-92ed208ac573"
      },
      "execution_count": 51,
      "outputs": [
        {
          "output_type": "stream",
          "name": "stdout",
          "text": [
            "[[0.05 0.12]\n",
            " [0.18 0.22]\n",
            " [0.31 0.35]\n",
            " [0.42 0.38]\n",
            " [0.5  0.49]]\n"
          ]
        },
        {
          "output_type": "display_data",
          "data": {
            "text/plain": [
              "<Figure size 640x480 with 1 Axes>"
            ],
            "image/png": "[encoded data removed]"
          },
          "metadata": {}
        }
      ]
    },
    {
      "cell_type": "code",
      "source": [
        "# direct solution to linear least squares\n",
        "from numpy import array\n",
        "from numpy.linalg import inv\n",
        "from matplotlib import pyplot\n",
        "# define dataset\n",
        "data = array([\n",
        "[0.05, 0.12],\n",
        "[0.18, 0.22],\n",
        "[0.31, 0.35],\n",
        "[0.42, 0.38],\n",
        "[0.5, 0.49]])\n",
        "# split into inputs and outputs\n",
        "X, y = data[:,0], data[:,1]\n",
        "X = X.reshape((len(X), 1))\n",
        "# linear least squares\n",
        "b = inv(X.T.dot(X)).dot(X.T).dot(y)\n",
        "print(b)\n",
        "# predict using coefficients\n",
        "yhat = X.dot(b)\n",
        "# plot data and predictions\n",
        "pyplot.scatter(X, y)\n",
        "pyplot.plot(X, yhat, color='red')\n",
        "pyplot.show()"
      ],
      "metadata": {
        "colab": {
          "base_uri": "https://localhost:8080/",
          "height": 447
        },
        "id": "Vd2zereCXBCi",
        "outputId": "0bf87cde-9a1e-41be-f87f-f561f5fb985e"
      },
      "execution_count": 52,
      "outputs": [
        {
          "output_type": "stream",
          "name": "stdout",
          "text": [
            "[1.00233226]\n"
          ]
        },
        {
          "output_type": "display_data",
          "data": {
            "text/plain": [
              "<Figure size 640x480 with 1 Axes>"
            ],
            "image/png": "[encoded data removed]"
          },
          "metadata": {}
        }
      ]
    },
    {
      "cell_type": "code",
      "source": [
        "# QR decomposition solution to linear least squares\n",
        "from numpy import array\n",
        "from numpy.linalg import inv\n",
        "from numpy.linalg import qr\n",
        "from matplotlib import pyplot\n",
        "# define dataset\n",
        "data = array([\n",
        "[0.05, 0.12],\n",
        "[0.18, 0.22],\n",
        "[0.31, 0.35],\n",
        "[0.42, 0.38],\n",
        "[0.5, 0.49]])\n",
        "# split into inputs and outputs\n",
        "X, y = data[:,0], data[:,1]\n",
        "X = X.reshape((len(X), 1))\n",
        "# factorize\n",
        "Q, R = qr(X)\n",
        "b = inv(R).dot(Q.T).dot(y)\n",
        "print(b)\n",
        "# predict using coefficients\n",
        "yhat = X.dot(b)\n",
        "# plot data and predictions\n",
        "pyplot.scatter(X, y)\n",
        "pyplot.plot(X, yhat, color='red')\n",
        "pyplot.show()"
      ],
      "metadata": {
        "colab": {
          "base_uri": "https://localhost:8080/",
          "height": 447
        },
        "id": "Sh9XZRlTXGaj",
        "outputId": "ec6bb981-594a-4b4a-a3a1-ab83ba16229a"
      },
      "execution_count": 53,
      "outputs": [
        {
          "output_type": "stream",
          "name": "stdout",
          "text": [
            "[1.00233226]\n"
          ]
        },
        {
          "output_type": "display_data",
          "data": {
            "text/plain": [
              "<Figure size 640x480 with 1 Axes>"
            ],
            "image/png": "[encoded data removed]"
          },
          "metadata": {}
        }
      ]
    },
    {
      "cell_type": "code",
      "source": [
        "# SVD solution via pseudoinverse to linear least squares\n",
        "from numpy import array\n",
        "from numpy.linalg import pinv\n",
        "from matplotlib import pyplot\n",
        "# define dataset\n",
        "data = array([\n",
        "[0.05, 0.12],\n",
        "[0.18, 0.22],\n",
        "[0.31, 0.35],\n",
        "[0.42, 0.38],\n",
        "[0.5, 0.49]])\n",
        "# split into inputs and outputs\n",
        "X, y = data[:,0], data[:,1]\n",
        "X = X.reshape((len(X), 1))\n",
        "# calculate coefficients\n",
        "b = pinv(X).dot(y)\n",
        "print(b)\n",
        "# predict using coefficients\n",
        "yhat = X.dot(b)\n",
        "# plot data and predictions\n",
        "pyplot.scatter(X, y)\n",
        "pyplot.plot(X, yhat, color='red')\n",
        "pyplot.show()"
      ],
      "metadata": {
        "colab": {
          "base_uri": "https://localhost:8080/",
          "height": 447
        },
        "id": "Rsme1zZlXJ51",
        "outputId": "5a05dfdd-e17c-426b-d836-745c91608ffb"
      },
      "execution_count": 54,
      "outputs": [
        {
          "output_type": "stream",
          "name": "stdout",
          "text": [
            "[1.00233226]\n"
          ]
        },
        {
          "output_type": "display_data",
          "data": {
            "text/plain": [
              "<Figure size 640x480 with 1 Axes>"
            ],
            "image/png": "[encoded data removed]"
          },
          "metadata": {}
        }
      ]
    },
    {
      "cell_type": "code",
      "source": [
        "# least squares via convenience function\n",
        "from numpy import array\n",
        "from numpy.linalg import lstsq\n",
        "from matplotlib import pyplot\n",
        "# define dataset\n",
        "data = array([\n",
        "[0.05, 0.12],\n",
        "[0.18, 0.22],\n",
        "[0.31, 0.35],\n",
        "[0.42, 0.38],\n",
        "[0.5, 0.49]])\n",
        "# split into inputs and outputs\n",
        "X, y = data[:,0], data[:,1]\n",
        "X = X.reshape((len(X), 1))\n",
        "# calculate coefficients\n",
        "b, residuals, rank, s = lstsq(X, y)\n",
        "print(b)\n",
        "# predict using coefficients\n",
        "yhat = X.dot(b)\n",
        "# plot data and predictions\n",
        "pyplot.scatter(X, y)\n",
        "pyplot.plot(X, yhat, color='red')\n",
        "pyplot.show()"
      ],
      "metadata": {
        "colab": {
          "base_uri": "https://localhost:8080/",
          "height": 519
        },
        "id": "ItO5EdiAXMtN",
        "outputId": "07ca0a58-e198-4da1-9ed1-222eb9a1eb69"
      },
      "execution_count": 55,
      "outputs": [
        {
          "output_type": "stream",
          "name": "stdout",
          "text": [
            "[1.00233226]\n"
          ]
        },
        {
          "output_type": "stream",
          "name": "stderr",
          "text": [
            "<ipython-input-55-7888ce38344e>:16: FutureWarning: `rcond` parameter will change to the default of machine precision times ``max(M, N)`` where M and N are the input matrix dimensions.\n",
            "To use the future default and silence this warning we advise to pass `rcond=None`, to keep using the old, explicitly pass `rcond=-1`.\n",
            "  b, residuals, rank, s = lstsq(X, y)\n"
          ]
        },
        {
          "output_type": "display_data",
          "data": {
            "text/plain": [
              "<Figure size 640x480 with 1 Axes>"
            ],
            "image/png": "[encoded data removed]"
          },
          "metadata": {}
        }
      ]
    }
  ]
}