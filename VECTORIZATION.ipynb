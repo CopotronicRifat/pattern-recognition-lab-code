{
  "nbformat": 4,
  "nbformat_minor": 0,
  "metadata": {
    "colab": {
      "name": "VECTORIZATION.ipynb",
      "provenance": [],
      "authorship_tag": "ABX9TyPDNX1i6ijBxeamJKEH7+II",
      "include_colab_link": true
    },
    "kernelspec": {
      "name": "python3",
      "display_name": "Python 3"
    }
  },
  "cells": [
    {
      "cell_type": "markdown",
      "metadata": {
        "id": "view-in-github",
        "colab_type": "text"
      },
      "source": [
        "<a href=\"https://colab.research.google.com/github/CopotronicRifat/pattern-recognition-lab-code/blob/master/VECTORIZATION.ipynb\" target=\"_parent\"><img src=\"https://colab.research.google.com/assets/colab-badge.svg\" alt=\"Open In Colab\"/></a>"
      ]
    },
    {
      "cell_type": "code",
      "metadata": {
        "id": "F6HEgMZdT02J",
        "colab_type": "code",
        "colab": {
          "base_uri": "https://localhost:8080/",
          "height": 34
        },
        "outputId": "44885de5-15ad-492e-dc62-c48fe9586b1b"
      },
      "source": [
        "import numpy as np\n",
        "w = [1, 2, 3]\n",
        "x = [4, 5, 6]\n",
        "z = np.dot(w, x)\n",
        "print(z)\n"
      ],
      "execution_count": 1,
      "outputs": [
        {
          "output_type": "stream",
          "text": [
            "32\n"
          ],
          "name": "stdout"
        }
      ]
    },
    {
      "cell_type": "code",
      "metadata": {
        "id": "5jW1T21pU9OR",
        "colab_type": "code",
        "colab": {
          "base_uri": "https://localhost:8080/",
          "height": 85
        },
        "outputId": "baf8478e-80d8-44b8-a5a2-da76078a9fbc"
      },
      "source": [
        "import numpy as np\n",
        "import time\n",
        "\n",
        "a = np.random.rand(1000000)\n",
        "b = np.random.rand(1000000)\n",
        "\n",
        "tic = time.time()\n",
        "c = np.dot(a, b)\n",
        "toc = time.time()\n",
        "\n",
        "print(\"Calculation time in miliseconds vectorization: \" + str(1000*(toc - tic)) + \"ms\")\n",
        "print(c)\n",
        "\n",
        "c = 0\n",
        "tic = time.time()\n",
        "for i in range(1000000):\n",
        "  c = c + a[i] * b[i]\n",
        "\n",
        "toc = time.time()\n",
        "\n",
        "print(\"Calculation time in miliseconds for loop: \" + str(1000*(toc - tic)) + \"ms\")\n",
        "print(c)"
      ],
      "execution_count": 11,
      "outputs": [
        {
          "output_type": "stream",
          "text": [
            "Calculation time in miliseconds vectorization: 1.294851303100586ms\n",
            "249935.666289075\n",
            "Calculation time in miliseconds for loop: 632.4117183685303ms\n",
            "249935.66628907397\n"
          ],
          "name": "stdout"
        }
      ]
    }
  ]
}