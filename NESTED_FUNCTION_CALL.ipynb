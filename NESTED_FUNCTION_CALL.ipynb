{
  "nbformat": 4,
  "nbformat_minor": 0,
  "metadata": {
    "colab": {
      "name": "NESTED FUNCTION CALL.ipynb",
      "provenance": [],
      "authorship_tag": "ABX9TyMtrHMmQHV+O+8u5AjBqNSm",
      "include_colab_link": true
    },
    "kernelspec": {
      "name": "python3",
      "display_name": "Python 3"
    }
  },
  "cells": [
    {
      "cell_type": "markdown",
      "metadata": {
        "id": "view-in-github",
        "colab_type": "text"
      },
      "source": [
        "<a href=\"https://colab.research.google.com/github/CopotronicRifat/pattern-recognition-lab-code/blob/master/NESTED_FUNCTION_CALL.ipynb\" target=\"_parent\"><img src=\"https://colab.research.google.com/assets/colab-badge.svg\" alt=\"Open In Colab\"/></a>"
      ]
    },
    {
      "cell_type": "code",
      "metadata": {
        "colab": {
          "base_uri": "https://localhost:8080/"
        },
        "id": "J0BG3zMVlU0t",
        "outputId": "0c98f711-2a85-47d6-d392-061bf47e88e6"
      },
      "source": [
        "import numpy as np\r\n",
        "def distance(x1, y1, x2, y2):\r\n",
        "  return np.sqrt((x1-x2)**2+(y1-y2)**2)\r\n",
        "\r\n",
        "\r\n",
        "\r\n",
        "def agentDistance(x1, x2, y1, y2, r):\r\n",
        "  return np.abs(distance(x1, x2, y1, y2) - r)\r\n",
        "\r\n",
        "print(agentDistance(3,2,4,3, 5))"
      ],
      "execution_count": null,
      "outputs": [
        {
          "output_type": "stream",
          "text": [
            "3.585786437626905\n"
          ],
          "name": "stdout"
        }
      ]
    },
    {
      "cell_type": "code",
      "metadata": {
        "id": "4CVzDR_Ef8xd"
      },
      "source": [
        "d=[]\r\n",
        "while(1):\r\n",
        "  d.append('1')"
      ],
      "execution_count": null,
      "outputs": []
    }
  ]
}