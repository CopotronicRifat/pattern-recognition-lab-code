{
  "nbformat": 4,
  "nbformat_minor": 0,
  "metadata": {
    "colab": {
      "name": "PYTHON BASIC.ipynb",
      "provenance": [],
      "include_colab_link": true
    },
    "kernelspec": {
      "name": "python3",
      "display_name": "Python 3"
    }
  },
  "cells": [
    {
      "cell_type": "markdown",
      "metadata": {
        "id": "view-in-github",
        "colab_type": "text"
      },
      "source": [
        "<a href=\"https://colab.research.google.com/github/CopotronicRifat/pattern-recognition-lab-code/blob/master/PYTHON_BASIC.ipynb\" target=\"_parent\"><img src=\"https://colab.research.google.com/assets/colab-badge.svg\" alt=\"Open In Colab\"/></a>"
      ]
    },
    {
      "cell_type": "code",
      "metadata": {
        "id": "NiSv6Vu7Gkn4",
        "colab_type": "code",
        "outputId": "36a9c8d6-10be-4cbc-cbdb-e0e1f45f0dd1",
        "colab": {
          "base_uri": "https://localhost:8080/",
          "height": 51
        }
      },
      "source": [
        "# Variables\n",
        "\n",
        "var1 = 7\n",
        "var2 = 3\n",
        "var3 = \"cse\"\n",
        "var4 = 3.1416\n",
        "var5 = \"uap\"\n",
        "\n",
        "var6 = var1 + var2\n",
        "\n",
        "print(var6)\n",
        "print(var3+\" \"+var5)"
      ],
      "execution_count": 0,
      "outputs": [
        {
          "output_type": "stream",
          "text": [
            "10\n",
            "cse uap\n"
          ],
          "name": "stdout"
        }
      ]
    },
    {
      "cell_type": "code",
      "metadata": {
        "id": "zTFZuk03IAmN",
        "colab_type": "code",
        "outputId": "74506e9b-9be2-49e5-89f4-7054f97bd983",
        "colab": {
          "base_uri": "https://localhost:8080/",
          "height": 51
        }
      },
      "source": [
        "# taking inputs\n",
        "\n",
        "var = float(input())\n",
        "print(var/2)"
      ],
      "execution_count": 0,
      "outputs": [
        {
          "output_type": "stream",
          "text": [
            "3.1416\n",
            "1.5708\n"
          ],
          "name": "stdout"
        }
      ]
    },
    {
      "cell_type": "code",
      "metadata": {
        "id": "Vj9PzPfaJU4c",
        "colab_type": "code",
        "outputId": "79237539-f84c-41d9-97f0-50bfcdc006ec",
        "colab": {
          "base_uri": "https://localhost:8080/",
          "height": 51
        }
      },
      "source": [
        "var = int(input())\n",
        "print(\"The variable you entered is:\", var)"
      ],
      "execution_count": 0,
      "outputs": [
        {
          "output_type": "stream",
          "text": [
            "7\n",
            "The variable you entered is: 7\n"
          ],
          "name": "stdout"
        }
      ]
    },
    {
      "cell_type": "code",
      "metadata": {
        "id": "Ko3jVcnBJ1f7",
        "colab_type": "code",
        "outputId": "617ec47e-def7-4ad3-e836-fe49029cd384",
        "colab": {
          "base_uri": "https://localhost:8080/",
          "height": 51
        }
      },
      "source": [
        "var = int(input())\n",
        "print(\"The variable you entered is:\" + str(var))"
      ],
      "execution_count": 0,
      "outputs": [
        {
          "output_type": "stream",
          "text": [
            "45\n",
            "The variable you entered is:45\n"
          ],
          "name": "stdout"
        }
      ]
    },
    {
      "cell_type": "code",
      "metadata": {
        "id": "ocfP531eKqZ4",
        "colab_type": "code",
        "outputId": "b2a7ee60-dc3a-4104-8264-8e7a4d6721b3",
        "colab": {
          "base_uri": "https://localhost:8080/",
          "height": 51
        }
      },
      "source": [
        "# conditionals (if-else)\n",
        "\n",
        "var = int(input())\n",
        "\n",
        "if var>=0:\n",
        "  print(\"pos\")\n",
        "else:\n",
        "  print(\"neg\")"
      ],
      "execution_count": 0,
      "outputs": [
        {
          "output_type": "stream",
          "text": [
            "-3\n",
            "neg\n"
          ],
          "name": "stdout"
        }
      ]
    },
    {
      "cell_type": "code",
      "metadata": {
        "id": "20s7MEPrL6-Y",
        "colab_type": "code",
        "outputId": "0b0d8d4e-fbab-445e-c710-9f269c2528c6",
        "colab": {
          "base_uri": "https://localhost:8080/",
          "height": 51
        }
      },
      "source": [
        "var = int(input())\n",
        "\n",
        "if var==0:\n",
        "  print(\"zero\")\n",
        "elif var>0:\n",
        "  print(\"greater than zero\")\n",
        "else:\n",
        "  print(\"less than zero\")"
      ],
      "execution_count": 0,
      "outputs": [
        {
          "output_type": "stream",
          "text": [
            "-6\n",
            "less than zero\n"
          ],
          "name": "stdout"
        }
      ]
    },
    {
      "cell_type": "code",
      "metadata": {
        "id": "R94HHOS9MyXf",
        "colab_type": "code",
        "outputId": "eb017b50-c8d9-4acd-9263-40a0952de69d",
        "colab": {
          "base_uri": "https://localhost:8080/",
          "height": 874
        }
      },
      "source": [
        "# loops\n",
        "# for loop\n",
        "\n",
        "for i in range(1,100,2):\n",
        "  print(i)\n"
      ],
      "execution_count": 0,
      "outputs": [
        {
          "output_type": "stream",
          "text": [
            "1\n",
            "3\n",
            "5\n",
            "7\n",
            "9\n",
            "11\n",
            "13\n",
            "15\n",
            "17\n",
            "19\n",
            "21\n",
            "23\n",
            "25\n",
            "27\n",
            "29\n",
            "31\n",
            "33\n",
            "35\n",
            "37\n",
            "39\n",
            "41\n",
            "43\n",
            "45\n",
            "47\n",
            "49\n",
            "51\n",
            "53\n",
            "55\n",
            "57\n",
            "59\n",
            "61\n",
            "63\n",
            "65\n",
            "67\n",
            "69\n",
            "71\n",
            "73\n",
            "75\n",
            "77\n",
            "79\n",
            "81\n",
            "83\n",
            "85\n",
            "87\n",
            "89\n",
            "91\n",
            "93\n",
            "95\n",
            "97\n",
            "99\n"
          ],
          "name": "stdout"
        }
      ]
    },
    {
      "cell_type": "code",
      "metadata": {
        "id": "X56xaRMePgSA",
        "colab_type": "code",
        "outputId": "3917218e-ee28-4554-c485-088369eb28b1",
        "colab": {
          "base_uri": "https://localhost:8080/",
          "height": 188
        }
      },
      "source": [
        "# while loop\n",
        "\n",
        "i = 0\n",
        "\n",
        "while i<10:\n",
        "  i=i+1\n",
        "  print(i)\n",
        "  "
      ],
      "execution_count": 0,
      "outputs": [
        {
          "output_type": "stream",
          "text": [
            "1\n",
            "2\n",
            "3\n",
            "4\n",
            "5\n",
            "6\n",
            "7\n",
            "8\n",
            "9\n",
            "10\n"
          ],
          "name": "stdout"
        }
      ]
    },
    {
      "cell_type": "code",
      "metadata": {
        "id": "ul6UCMYiR-wC",
        "colab_type": "code",
        "outputId": "3cb2925b-36ab-46fe-a39b-960a6e49e5d8",
        "colab": {
          "base_uri": "https://localhost:8080/",
          "height": 51
        }
      },
      "source": [
        "# function\n",
        "\n",
        "def area(rad):\n",
        "  return 3.1416*rad**2\n",
        "\n",
        "print(area(12))\n",
        "area(5)\n"
      ],
      "execution_count": 0,
      "outputs": [
        {
          "output_type": "stream",
          "text": [
            "452.3904\n"
          ],
          "name": "stdout"
        },
        {
          "output_type": "execute_result",
          "data": {
            "text/plain": [
              "78.53999999999999"
            ]
          },
          "metadata": {
            "tags": []
          },
          "execution_count": 40
        }
      ]
    },
    {
      "cell_type": "code",
      "metadata": {
        "id": "XcETI2SETZdM",
        "colab_type": "code",
        "outputId": "78a1bd25-08a3-438a-c49c-c8bf08685674",
        "colab": {
          "base_uri": "https://localhost:8080/",
          "height": 34
        }
      },
      "source": [
        "# string\n",
        "\n",
        "var1 = \"cse\"\n",
        "var2 = \"\"\n",
        "\n",
        "if var2:\n",
        "  print(\"string is not empty\")\n",
        "else:\n",
        "  print(\"string is empty\")\n",
        "\n",
        "\n"
      ],
      "execution_count": 0,
      "outputs": [
        {
          "output_type": "stream",
          "text": [
            "string is not empty\n"
          ],
          "name": "stdout"
        }
      ]
    },
    {
      "cell_type": "code",
      "metadata": {
        "id": "m_e5rB2cT-BC",
        "colab_type": "code",
        "outputId": "0823fa2b-a273-4ebb-b7e3-a533a40e2d77",
        "colab": {
          "base_uri": "https://localhost:8080/",
          "height": 806
        }
      },
      "source": [
        "for i in range(1,100):\n",
        "  if i%3==0 or i%5==0:\n",
        "    print(i)"
      ],
      "execution_count": 0,
      "outputs": [
        {
          "output_type": "stream",
          "text": [
            "3\n",
            "5\n",
            "6\n",
            "9\n",
            "10\n",
            "12\n",
            "15\n",
            "18\n",
            "20\n",
            "21\n",
            "24\n",
            "25\n",
            "27\n",
            "30\n",
            "33\n",
            "35\n",
            "36\n",
            "39\n",
            "40\n",
            "42\n",
            "45\n",
            "48\n",
            "50\n",
            "51\n",
            "54\n",
            "55\n",
            "57\n",
            "60\n",
            "63\n",
            "65\n",
            "66\n",
            "69\n",
            "70\n",
            "72\n",
            "75\n",
            "78\n",
            "80\n",
            "81\n",
            "84\n",
            "85\n",
            "87\n",
            "90\n",
            "93\n",
            "95\n",
            "96\n",
            "99\n"
          ],
          "name": "stdout"
        }
      ]
    },
    {
      "cell_type": "code",
      "metadata": {
        "id": "xJ67LWitU7by",
        "colab_type": "code",
        "outputId": "9fede6bd-e395-4b4c-ad8d-429ba6f0343e",
        "colab": {
          "base_uri": "https://localhost:8080/",
          "height": 137
        }
      },
      "source": [
        "# list\n",
        "\n",
        "list1 = [22, 3.1416, 17, \"cse uap\", 48, \"pattern\", 38, \"computer science\", 37]\n",
        "\n",
        "print(list1)\n",
        "\n",
        "list1.append(100)\n",
        "\n",
        "print(list1)\n",
        "\n",
        "for i in range(2,7):\n",
        "  print(list1[i])\n",
        "\n",
        "# delete, insert, extend, clear"
      ],
      "execution_count": 0,
      "outputs": [
        {
          "output_type": "stream",
          "text": [
            "[22, 3.1416, 17, 'cse uap', 48, 'pattern', 38, 'computer science', 37]\n",
            "[22, 3.1416, 17, 'cse uap', 48, 'pattern', 38, 'computer science', 37, 100]\n",
            "17\n",
            "cse uap\n",
            "48\n",
            "pattern\n",
            "38\n"
          ],
          "name": "stdout"
        }
      ]
    },
    {
      "cell_type": "code",
      "metadata": {
        "id": "E3BH5qz3XDWf",
        "colab_type": "code",
        "outputId": "35b3a19e-8cf4-4cf5-cb0b-b4583469a55b",
        "colab": {
          "base_uri": "https://localhost:8080/",
          "height": 34
        }
      },
      "source": [
        "# dictionary\n",
        "\n",
        "sectionc1 = {\"aaa\":1, \"bbb\":2, \"ccc\":3, \"ddd\":\"cv\", \"eee\":5}\n",
        "\n",
        "print(sectionc1[\"ddd\"])"
      ],
      "execution_count": 0,
      "outputs": [
        {
          "output_type": "stream",
          "text": [
            "cv\n"
          ],
          "name": "stdout"
        }
      ]
    }
  ]
}