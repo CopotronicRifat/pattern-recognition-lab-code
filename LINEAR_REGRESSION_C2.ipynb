{
  "nbformat": 4,
  "nbformat_minor": 0,
  "metadata": {
    "colab": {
      "name": "LINEAR REGRESSION C2.ipynb",
      "provenance": [],
      "include_colab_link": true
    },
    "kernelspec": {
      "name": "python3",
      "display_name": "Python 3"
    }
  },
  "cells": [
    {
      "cell_type": "markdown",
      "metadata": {
        "id": "view-in-github",
        "colab_type": "text"
      },
      "source": [
        "<a href=\"https://colab.research.google.com/github/CopotronicRifat/pattern-recognition-lab-code/blob/master/LINEAR_REGRESSION_C2.ipynb\" target=\"_parent\"><img src=\"https://colab.research.google.com/assets/colab-badge.svg\" alt=\"Open In Colab\"/></a>"
      ]
    },
    {
      "cell_type": "code",
      "metadata": {
        "id": "IWLRpDkwUtUQ",
        "colab_type": "code",
        "outputId": "db214aed-8842-4a1c-f6cb-771fb5075762",
        "colab": {
          "base_uri": "https://localhost:8080/",
          "height": 87
        }
      },
      "source": [
        "list1 = [22, 34, 67, 84, 78, 90]\n",
        "print(list1)\n",
        "print(len(list1))\n",
        "\n",
        "list1.append(11)\n",
        "print(list1)\n",
        "print(len(list1))"
      ],
      "execution_count": 0,
      "outputs": [
        {
          "output_type": "stream",
          "text": [
            "[22, 34, 67, 84, 78, 90]\n",
            "6\n",
            "[22, 34, 67, 84, 78, 90, 11]\n",
            "7\n"
          ],
          "name": "stdout"
        }
      ]
    },
    {
      "cell_type": "code",
      "metadata": {
        "id": "ucruz3dJXJPI",
        "colab_type": "code",
        "outputId": "23a443bb-75a1-4637-d41c-2e45bf72df6a",
        "colab": {
          "base_uri": "https://localhost:8080/",
          "height": 996
        }
      },
      "source": [
        "import matplotlib.pyplot as plt\n",
        "\n",
        "# dataset \n",
        "x = [0, 1, 2, 3]\n",
        "y = [4, 7, 7, 8]\n",
        "m = len(x)\n",
        "alpha = 0.01\n",
        "\n",
        "# parameter initialization\n",
        "theta = [2, 2]\n",
        "J = 100\n",
        "n = 0 \n",
        "for i in range(10):\n",
        "  print(\"Iteration number: \",n+1)\n",
        "  n = n+1\n",
        "  # hypothesis function\n",
        "  h = []\n",
        "  for i in range(m):\n",
        "    temp = theta[0] + theta[1]*x[i]\n",
        "    h.append(temp)\n",
        "  print(\"Hypothesis function value is: \",h)\n",
        "\n",
        "  # cost function\n",
        "  error_sum = 0 \n",
        "  for i in range(m):\n",
        "    error_sum = error_sum + (h[i] - y[i])**2\n",
        "\n",
        "  J = (1/(2*m))*error_sum\n",
        "\n",
        "  print(\"Cost function is:\",J)\n",
        "\n",
        "  # gradient descent\n",
        "  temp0 = 0\n",
        "  for i in range(m):\n",
        "    temp0 = temp0 + (h[i] - y[i])\n",
        "\n",
        "  theta[0] = theta[0] - (alpha/m)*temp0\n",
        "\n",
        "  temp1 = 0\n",
        "  for i in range(m):\n",
        "    temp1 = temp1 + (h[i] - y[i])*x[i]\n",
        "\n",
        "  theta[1] = theta[1] - (alpha/m)*temp1\n",
        "\n",
        "  print(\"New parameter value is: \",theta)\n",
        "  plt.plot(x, h, marker = \"o\")\n",
        "  plt.show\n",
        "\n",
        "print(\"predicted hypothesis is:\",h)"
      ],
      "execution_count": 0,
      "outputs": [
        {
          "output_type": "stream",
          "text": [
            "Iteration number:  1\n",
            "Hypothesis function value is:  [2, 4, 6, 8]\n",
            "Cost function is: 1.75\n",
            "New parameter value is:  [2.015, 2.0125]\n",
            "Iteration number:  2\n",
            "Hypothesis function value is:  [2.015, 4.0275, 6.040000000000001, 8.0525]\n",
            "Cost function is: 1.7125421875\n",
            "New parameter value is:  [2.0296625, 2.0243375]\n",
            "Iteration number:  3\n",
            "Hypothesis function value is:  [2.0296625, 4.054, 6.0783375, 8.102675000000001]\n",
            "Cost function is: 1.6776437229296872\n",
            "New parameter value is:  [2.0440008125, 2.03554075]\n",
            "Iteration number:  4\n",
            "Hypothesis function value is:  [2.0440008125, 4.0795415625, 6.1150823125, 8.1506230625]\n",
            "Cost function is: 1.6450971159091032\n",
            "New parameter value is:  [2.058027693125, 2.0461368115625]\n",
            "Iteration number:  5\n",
            "Hypothesis function value is:  [2.058027693125, 4.1041645046875, 6.15030131625, 8.1964381278125]\n",
            "Cost function is: 1.6147119309757705\n",
            "New parameter value is:  [2.0717553640203126, 2.0561516077609374]\n",
            "Iteration number:  6\n",
            "Hypothesis function value is:  [2.0717553640203126, 4.12790697178125, 6.184058579542187, 8.240210187303125]\n",
            "Cost function is: 1.5863133843287627\n",
            "New parameter value is:  [2.0851955362636954, 2.065609971029]\n",
            "Iteration number:  7\n",
            "Hypothesis function value is:  [2.0851955362636954, 4.150805507292695, 6.216415478321696, 8.282025449350696]\n",
            "Cost function is: 1.559741056039174\n",
            "New parameter value is:  [2.0983594313356235, 2.07453568899903]\n",
            "Iteration number:  8\n",
            "Hypothesis function value is:  [2.0983594313356235, 4.172895120334653, 6.247430809333683, 8.321966498332714]\n",
            "Cost function is: 1.5348477082258218\n",
            "New parameter value is:  [2.111257801687282, 2.0829515484140293]\n",
            "Iteration number:  9\n",
            "Hypothesis function value is:  [2.111257801687282, 4.194209350101311, 6.277160898515341, 8.36011244692937]\n",
            "Cost function is: 1.511498200476834\n",
            "New parameter value is:  [2.123900950444199, 2.090879377194229]\n",
            "Iteration number:  10\n",
            "Hypothesis function value is:  [2.123900950444199, 4.214780327638428, 6.305659704832657, 8.396539082026885]\n",
            "Cost function is: 1.4895684945152354\n",
            "New parameter value is:  [2.1362987502818434, 2.098340084735768]\n",
            "predicted hypothesis is: [2.123900950444199, 4.214780327638428, 6.305659704832657, 8.396539082026885]\n"
          ],
          "name": "stdout"
        },
        {
          "output_type": "display_data",
          "data": {
            "image/png": "[encoded data removed]",
            "text/plain": [
              "<Figure size 432x288 with 1 Axes>"
            ]
          },
          "metadata": {
            "tags": []
          }
        }
      ]
    }
  ]
}