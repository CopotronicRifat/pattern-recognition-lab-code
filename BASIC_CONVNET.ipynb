{
  "nbformat": 4,
  "nbformat_minor": 0,
  "metadata": {
    "colab": {
      "name": "BASIC CONVNET.ipynb",
      "provenance": [],
      "collapsed_sections": [],
      "authorship_tag": "ABX9TyPBz+qaoAgQvUEMaO9zmtDj",
      "include_colab_link": true
    },
    "kernelspec": {
      "name": "python3",
      "display_name": "Python 3"
    }
  },
  "cells": [
    {
      "cell_type": "markdown",
      "metadata": {
        "id": "view-in-github",
        "colab_type": "text"
      },
      "source": [
        "<a href=\"https://colab.research.google.com/github/CopotronicRifat/pattern-recognition-lab-code/blob/master/BASIC_CONVNET.ipynb\" target=\"_parent\"><img src=\"https://colab.research.google.com/assets/colab-badge.svg\" alt=\"Open In Colab\"/></a>"
      ]
    },
    {
      "cell_type": "code",
      "metadata": {
        "id": "_dN4_lzBIZCX"
      },
      "source": [
        "import numpy as np\r\n",
        "import pandas as pd\r\n",
        "import random\r\n",
        "import tensorflow as tf\r\n",
        "import matplotlib.pyplot as plt"
      ],
      "execution_count": null,
      "outputs": []
    },
    {
      "cell_type": "code",
      "metadata": {
        "id": "qRjBTlwDIrgJ"
      },
      "source": [
        "from tensorflow.keras.models import Sequential\r\n",
        "from tensorflow.keras.layers import Flatten, Conv2D, Dense, MaxPooling2D\r\n",
        "from tensorflow.keras.optimizers import SGD\r\n",
        "from tensorflow.keras.utils import to_categorical\r\n",
        "from tensorflow.keras.datasets import mnist"
      ],
      "execution_count": null,
      "outputs": []
    },
    {
      "cell_type": "code",
      "metadata": {
        "colab": {
          "base_uri": "https://localhost:8080/"
        },
        "id": "OJvERzetJXzt",
        "outputId": "6cbc0220-92f5-40ff-85e9-2268d83fac67"
      },
      "source": [
        "(x_train, y_train), (x_test, y_test) = mnist.load_data()\r\n",
        "x_train = x_train.reshape(x_train.shape[0], 28, 28, 1)\r\n",
        "x_train = x_train.astype('float32')/255.0\r\n",
        "y_train = to_categorical(y_train)\r\n"
      ],
      "execution_count": null,
      "outputs": [
        {
          "output_type": "stream",
          "text": [
            "Downloading data from https://storage.googleapis.com/tensorflow/tf-keras-datasets/mnist.npz\n",
            "11493376/11490434 [==============================] - 0s 0us/step\n"
          ],
          "name": "stdout"
        }
      ]
    },
    {
      "cell_type": "code",
      "metadata": {
        "id": "6BX_36R1KAUS"
      },
      "source": [
        "model = Sequential([\r\n",
        "                    Conv2D(32, (3, 3), activation = 'relu', input_shape = (28, 28, 1)),\r\n",
        "                    MaxPooling2D((2, 2)),\r\n",
        "                    Flatten(),\r\n",
        "                    Dense(100, activation = 'relu'),\r\n",
        "                    Dense(10, activation = 'softmax')\r\n",
        "])"
      ],
      "execution_count": null,
      "outputs": []
    },
    {
      "cell_type": "code",
      "metadata": {
        "id": "6q26uviYKz6u"
      },
      "source": [
        "optimizer = SGD(learning_rate = 0.01, momentum = 0.9)\r\n",
        "\r\n",
        "model.compile(optimizer = optimizer,\r\n",
        "              loss = 'categorical_crossentropy',\r\n",
        "              metrics = ['accuracy']\r\n",
        "              )\r\n",
        "\r\n"
      ],
      "execution_count": null,
      "outputs": []
    },
    {
      "cell_type": "code",
      "metadata": {
        "colab": {
          "base_uri": "https://localhost:8080/"
        },
        "id": "OOQ4RlDjLltl",
        "outputId": "bf875f7c-c9cf-4314-da30-94533166635b"
      },
      "source": [
        "history = model.fit(x_train, y_train, epochs = 10, batch_size = 32)"
      ],
      "execution_count": null,
      "outputs": [
        {
          "output_type": "stream",
          "text": [
            "Epoch 1/10\n",
            "1875/1875 [==============================] - 33s 17ms/step - loss: 0.4379 - accuracy: 0.8682\n",
            "Epoch 2/10\n",
            "1875/1875 [==============================] - 32s 17ms/step - loss: 0.0816 - accuracy: 0.9757\n",
            "Epoch 3/10\n",
            "1875/1875 [==============================] - 32s 17ms/step - loss: 0.0501 - accuracy: 0.9852\n",
            "Epoch 4/10\n",
            "1875/1875 [==============================] - 32s 17ms/step - loss: 0.0352 - accuracy: 0.9893\n",
            "Epoch 5/10\n",
            "1875/1875 [==============================] - 32s 17ms/step - loss: 0.0245 - accuracy: 0.9928\n",
            "Epoch 6/10\n",
            "1875/1875 [==============================] - 32s 17ms/step - loss: 0.0195 - accuracy: 0.9945\n",
            "Epoch 7/10\n",
            "1875/1875 [==============================] - 32s 17ms/step - loss: 0.0126 - accuracy: 0.9968\n",
            "Epoch 8/10\n",
            "1875/1875 [==============================] - 33s 17ms/step - loss: 0.0094 - accuracy: 0.9975\n",
            "Epoch 9/10\n",
            "1875/1875 [==============================] - 34s 18ms/step - loss: 0.0067 - accuracy: 0.9983\n",
            "Epoch 10/10\n",
            "1875/1875 [==============================] - 33s 17ms/step - loss: 0.0046 - accuracy: 0.9991\n"
          ],
          "name": "stdout"
        }
      ]
    },
    {
      "cell_type": "code",
      "metadata": {
        "colab": {
          "base_uri": "https://localhost:8080/",
          "height": 282
        },
        "id": "wDIEBzs5L6ZO",
        "outputId": "f9e2dcec-6b60-4716-e180-d16558da1769"
      },
      "source": [
        "image = random.choice(x_test)\r\n",
        "plt.imshow(image, cmap = plt.get_cmap('gray'))\r\n",
        "plt.show()\r\n",
        "image = (image.reshape((1, 28, 28, 1))).astype('float32')/255.0\r\n",
        "digit = np.argmax(model.predict(image)[0], axis = -1)\r\n",
        "print(\"Prediction: \", digit)"
      ],
      "execution_count": null,
      "outputs": [
        {
          "output_type": "display_data",
          "data": {
            "image/png": "[encoded data removed]",
            "text/plain": [
              "<Figure size 432x288 with 1 Axes>"
            ]
          },
          "metadata": {
            "tags": [],
            "needs_background": "light"
          }
        },
        {
          "output_type": "stream",
          "text": [
            "Prediction:  5\n"
          ],
          "name": "stdout"
        }
      ]
    }
  ]
}